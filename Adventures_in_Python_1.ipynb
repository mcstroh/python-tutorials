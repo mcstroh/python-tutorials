{
  "nbformat": 4,
  "nbformat_minor": 0,
  "metadata": {
    "colab": {
      "provenance": [],
      "authorship_tag": "ABX9TyPyEwm85lIJIwHcNSYZcDoX"
    },
    "kernelspec": {
      "name": "python3",
      "display_name": "Python 3"
    },
    "language_info": {
      "name": "python"
    }
  },
  "cells": [
    {
      "cell_type": "markdown",
      "source": [
        "# Adventures in Python 1\n",
        "Author: M. C. Stroh\n"
      ],
      "metadata": {
        "id": "3ZcAZ_cx9kdP"
      }
    },
    {
      "cell_type": "markdown",
      "source": [
        "## 1: Underscores in Numeric Literals\n",
        "\n",
        "A quality of life improvement added in Python 3.6 ([PEP 515](https://peps.python.org/pep-0515/)).\n",
        "\n",
        "Underscores can be used in place of commas in integers, floats and complex numbers to aid in code readability. This can be very useful when defining scientific constants."
      ],
      "metadata": {
        "id": "jDFW_DEvhoU2"
      }
    },
    {
      "cell_type": "markdown",
      "source": [
        "### Example 1: \n",
        "Below is a simple example where we replace the commas in the speed of light in vacuum (`C = 29,979,245,800 cm/s`).\n",
        "\n",
        "[PEP 8](https://peps.python.org/pep-0008/) suggests using capitalized variable names for constants, so we will use `C` instead of `c` for the speed of light in this example.\n",
        "\n",
        "```python\n",
        "C = 29_979_245_800 # cm / s\n",
        "print(C)\n",
        "```"
      ],
      "metadata": {
        "id": "wei9VcrqizLV"
      }
    },
    {
      "cell_type": "code",
      "source": [
        "# Try the example here."
      ],
      "metadata": {
        "id": "n_aGwMJtsKhi"
      },
      "execution_count": null,
      "outputs": []
    },
    {
      "cell_type": "markdown",
      "source": [
        "### Example 2:\n",
        "The underscores can be used in exponential format.\n",
        "\n",
        "```python\n",
        "C = 2.997_924_58e10 # cm / s\n",
        "print(C)\n",
        "```"
      ],
      "metadata": {
        "id": "R4iLb4mui8G-"
      }
    },
    {
      "cell_type": "code",
      "source": [
        "# Try the example here."
      ],
      "metadata": {
        "id": "aw7D-PYcsBnK"
      },
      "execution_count": null,
      "outputs": []
    },
    {
      "cell_type": "markdown",
      "source": [
        "### Example 3:\n",
        "Another example when giving Newton's constant of gravitation (`G`).\n",
        "```python\n",
        "G = 6.674_30e-8 #dyn cm^2/g^2\n",
        "print(G)\n",
        "```"
      ],
      "metadata": {
        "id": "C9LiqjrtjF_Y"
      }
    },
    {
      "cell_type": "code",
      "source": [
        "# Try the example here."
      ],
      "metadata": {
        "id": "dpw3x0qQsGEb"
      },
      "execution_count": null,
      "outputs": []
    },
    {
      "cell_type": "markdown",
      "source": [
        "## 2. String Formatting\n",
        "\n",
        "### A. Common ways you've seen\n",
        "\n",
        "#### i. Simple print statements\n",
        "\n",
        "Three ways to deal with strings that you are more likely to have seen:\n",
        "```python\n",
        "name = 'Scotty'\n",
        "thing = 'black holes'\n",
        "print(name, 'likes', thing)\n",
        "```"
      ],
      "metadata": {
        "id": "UKQq7HUsmUNr"
      }
    },
    {
      "cell_type": "code",
      "execution_count": null,
      "metadata": {
        "id": "uGpUgHhFmSm9"
      },
      "outputs": [],
      "source": [
        "# Try the example here."
      ]
    },
    {
      "cell_type": "markdown",
      "source": [
        "#### ii. The % operator\n",
        "\n",
        "Here is a basic example where you define a string and use the `%` operator to replace portions of the string with tuple members.\n",
        "\n",
        "```python\n",
        "name = 'Scotty'\n",
        "thing = 'black holes'\n",
        "comment = '%s likes %s.' % (name, thing)\n",
        "print(comment)\n",
        "```"
      ],
      "metadata": {
        "id": "FCeSBBDVm-0H"
      }
    },
    {
      "cell_type": "code",
      "source": [
        "# Try the example here."
      ],
      "metadata": {
        "id": "du7U8gzom6w5"
      },
      "execution_count": null,
      "outputs": []
    },
    {
      "cell_type": "markdown",
      "source": [
        "#### iii. The format() string method\n",
        "\n",
        "Using the `format()` method was introduced in Python 3 and is a little more versatile than the `%` operator.\n",
        "\n",
        "```python\n",
        "name = 'Scotty'\n",
        "thing = 'black holes'\n",
        "comment = '{0:s} likes {1:s}.'.format(name, thing)\n",
        "print(comment)\n",
        "\n",
        "other_comment = '{1:s} are liked by {0:s}.'.format(name, thing)\n",
        "print(other_comment)\n",
        "```"
      ],
      "metadata": {
        "id": "fCwZ7jkgxIJO"
      }
    },
    {
      "cell_type": "code",
      "source": [
        "# Try the example here."
      ],
      "metadata": {
        "id": "SkzBu22VnKlK"
      },
      "execution_count": null,
      "outputs": []
    },
    {
      "cell_type": "markdown",
      "source": [
        "### B. F-strings\n",
        "\n",
        "#### i. Background\n",
        "\n",
        "F-strings (formatted strings) were added in Python 3.6 as a quality of life improvement over the `format()` string method.\n",
        "The `format()` method can be messy to debug or write when you have a large number of variables or a very complicated string. F-strings are very easy to read, and allow all the same features as the `format()` method.\n",
        "\n",
        "F-strings begin with the letter `f` or `F` and you can use either single or double quotes (`'` or `\"`, respectively). Below we cover some examples of f-strings, but the rational and implementation is discussed in [PEP 498](https://peps.python.org/pep-0498/).\n",
        "\n",
        "Here is an `f-string` example that creates the same output as the previous discussed methods.\n",
        "\n",
        "##### Example 1:\n",
        "```python\n",
        "name = 'Scotty'\n",
        "thing = 'black holes'\n",
        "comment = f'{name:s} likes {thing:s}.'\n",
        "print(comment)\n",
        "```"
      ],
      "metadata": {
        "id": "yqiUS2_Tn_8r"
      }
    },
    {
      "cell_type": "code",
      "source": [
        "# Try the example here."
      ],
      "metadata": {
        "id": "d9dlI8PdncfM"
      },
      "execution_count": null,
      "outputs": []
    },
    {
      "cell_type": "markdown",
      "source": [
        "##### Example 2: Calculations\n",
        "Calculations can be included as f-string arguments. This can make your code cleaner.\n",
        "\n",
        "**Caution**: Don't make your code unreadable by adding complicated formulae to your `f-string`. \n",
        "```python\n",
        "num1 = 9.5\n",
        "num2 = 8.2\n",
        "print(f\"The product of {num1:.1f} and {num2:.1f} is {num1 * num2:.2f}.\")\n",
        "```"
      ],
      "metadata": {
        "id": "JiWqlg5AolbE"
      }
    },
    {
      "cell_type": "code",
      "source": [
        "# Try the example here."
      ],
      "metadata": {
        "id": "m9ocTVAVoVsE"
      },
      "execution_count": null,
      "outputs": []
    },
    {
      "cell_type": "markdown",
      "source": [
        "##### Example 3: Conditional statements\n",
        "Conditional statements can be used as an argument in your `f-string`.\n",
        "```python\n",
        "num3 = 919382723\n",
        "print(f\"Num3 ({num3}) is divisible by 3: {True if num3 % 3 == 0 else False}.\")\n",
        "```"
      ],
      "metadata": {
        "id": "iSBOnL9oD-BG"
      }
    },
    {
      "cell_type": "code",
      "source": [
        "# Try the example here."
      ],
      "metadata": {
        "id": "9fEhpNfEpBe9"
      },
      "execution_count": null,
      "outputs": []
    },
    {
      "cell_type": "markdown",
      "source": [
        "##### Example 4: Functions\n",
        "Functions can also be called in an `f-string`.\n",
        "```python\n",
        "numbers = [1, 2, 6, 8, 20, 7, 5, 2, 0]\n",
        "print(f\"The maximum number is {max(numbers)}.\")\n",
        "```"
      ],
      "metadata": {
        "id": "lPJiyUHtHWsK"
      }
    },
    {
      "cell_type": "code",
      "source": [
        "# Try the example here."
      ],
      "metadata": {
        "id": "Nu8vL9yfpnBE"
      },
      "execution_count": null,
      "outputs": []
    },
    {
      "cell_type": "markdown",
      "source": [
        "##### Example 5: Multi-line f-strings\n",
        "Use parenthesis around multiple strings to concatenate them across multiple lines. For example, we can combine some of the previous examples into a single output string.\n",
        "```python\n",
        "output = (f\"The product of {num1:.1f} and {num2:.1f} is {num1 * num2:.2f}\\n\"\n",
        "          f\"Num3 ({num3}) is divisible by 3: \"\n",
        "          f\"{True if num3 % 3 == 0 else False}.\\n\"\n",
        "          f\"The maximum number is {max(numbers)}.\")\n",
        "print(output)\n",
        "```"
      ],
      "metadata": {
        "id": "9XWPGLFDHvjo"
      }
    },
    {
      "cell_type": "code",
      "source": [
        "# Try the example here."
      ],
      "metadata": {
        "id": "fQ10W0etpzRe"
      },
      "execution_count": null,
      "outputs": []
    },
    {
      "cell_type": "markdown",
      "source": [
        "#### ii. Formatting:\n",
        "If you add a colon after your variable or calculation in the curly brackets, you can specify the data type expected. This table lists some examples:\n",
        "\n",
        "| Data type           | Syntax   |\n",
        "| :-----------------   | -------: |\n",
        "| __integer__          | `d`  |\n",
        "| __float__             | `f`  |\n",
        "| __float (scientific notation)__            | `e`  |\n",
        "| __string__        | `s`  |\n",
        "\n",
        "Try the following examples\n",
        "```python\n",
        "# Example using a string\n",
        "print(f\"{'This is a string':s}\")\n",
        "\n",
        "# Example using an integer\n",
        "print(f\"{4:d} is an integer.\")\n",
        "\n",
        "# Example using a float\n",
        "print(f\"{4.:f} is a float.\")\n",
        "```"
      ],
      "metadata": {
        "id": "zboBYKabpfOT"
      }
    },
    {
      "cell_type": "code",
      "source": [
        "# Try the examples here."
      ],
      "metadata": {
        "id": "_RdagGZPuOqQ"
      },
      "execution_count": null,
      "outputs": []
    },
    {
      "cell_type": "markdown",
      "source": [
        "##### a. Adjusting text length\n",
        "\n",
        "After specifying the data type, we can adjust the padding around the output by adding a number immediately after the colon in the `{}`.\n",
        "\n",
        "A common use case is aligning digits in your output.\n",
        "\n",
        "For example, if you are looping over a sequence of one and two digit numbers but want to keep the ones digits aligned, you can add a `2` after the colon:\n",
        "\n",
        "```python\n",
        "for i in range(5,12):\n",
        "    print(f\"{i:2d}\")\n",
        "```"
      ],
      "metadata": {
        "id": "RYoPlVFBuMMU"
      }
    },
    {
      "cell_type": "code",
      "source": [
        "# Try the example here."
      ],
      "metadata": {
        "id": "Z0m18KEKuRPk"
      },
      "execution_count": null,
      "outputs": []
    },
    {
      "cell_type": "markdown",
      "source": [
        "Strings work similarly. Run the code below including a string variable and see what happens.\n",
        "\n",
        "Also note what happens when the number passed is less than the string length.\n",
        "\n",
        "```python\n",
        "planet_name = 'Mercury'\n",
        "print(f\"{planet_name:6s} is a planet.\")\n",
        "print(f\"{planet_name:7s} is a planet.\")\n",
        "print(f\"{planet_name:8s} is a planet.\")\n",
        "```"
      ],
      "metadata": {
        "id": "iu5zKibVuTbG"
      }
    },
    {
      "cell_type": "code",
      "source": [
        "# Try the examples here."
      ],
      "metadata": {
        "id": "9m6J6QGSuYbE"
      },
      "execution_count": null,
      "outputs": []
    },
    {
      "cell_type": "markdown",
      "source": [
        "##### b. Text justification\n",
        "\n",
        "Left and right text justification can be chosen using `<` and `>` after the colon. It's easy to think of them as arrows pointing to the way the text will be justified.\n",
        "\n",
        "Try the two previous examples using `<` and `>` to see how the formatting changes.\n",
        "\n",
        "```python\n",
        "for i in range(5,12):\n",
        "    print(f\"{i:<2d}\")\n",
        "for i in range(5,12):\n",
        "    print(f\"{i:>2d}\")\n",
        "```"
      ],
      "metadata": {
        "id": "kuuwnw4duapx"
      }
    },
    {
      "cell_type": "code",
      "source": [
        "# Try the examples here."
      ],
      "metadata": {
        "id": "7HZOqQBougHn"
      },
      "execution_count": null,
      "outputs": []
    },
    {
      "cell_type": "markdown",
      "source": [
        "Try the following example with text justification.\n",
        "\n",
        "```python\n",
        "planet_name = 'Mercury'\n",
        "print(f\"{planet_name:<8s} is a planet.\")\n",
        "print(f\"{planet_name:>8s} is a planet.\")\n",
        "```"
      ],
      "metadata": {
        "id": "uFt34R6wuiEZ"
      }
    },
    {
      "cell_type": "code",
      "source": [
        "# Try the example here."
      ],
      "metadata": {
        "id": "luSUCRc9usIA"
      },
      "execution_count": null,
      "outputs": []
    },
    {
      "cell_type": "markdown",
      "source": [
        "##### c. Specifying numerical precision with floats\n",
        "\n",
        "Text justification, and length can also be specified for floats; however, often times we want to specify the precision displayed for floats.\n",
        "\n",
        "Recall the earlier example:\n",
        "\n",
        "```python\n",
        "print(f\"The square root of 2 is {np.sqrt(2)}.\")\n",
        "```\n",
        "```text\n",
        "The square root of 2 is 1.4142135623730951.\n",
        "```\n",
        "\n",
        "It is unlikely 16 digits after the decimal place are necessary. We can specify the precision after the decimal by placing a decimal followed by a number in the f-string.\n",
        "\n",
        "```python\n",
        "print(f\"The square root of 2 is {np.sqrt(2):.2f}.\")\n",
        "```\n",
        "```text\n",
        "The square root of 2 is 1.41.\n",
        "```\n",
        "\n",
        "Try a few yourself:\n",
        "```python\n",
        "print(f\"We can specify pi to a few digits: {np.pi:.3f}.\")\n",
        "print(f\"We can specify pi to many digits: {np.pi:.30f}.\")\n",
        "```"
      ],
      "metadata": {
        "id": "a-kEUPzRuuGg"
      }
    },
    {
      "cell_type": "code",
      "source": [
        "# Try the examples here"
      ],
      "metadata": {
        "id": "qWQnk6Z-u6qx"
      },
      "execution_count": null,
      "outputs": []
    },
    {
      "cell_type": "markdown",
      "source": [
        "##### d. Scientific notation\n",
        "\n",
        "You can also adjust the precision for numbers in scientific notation. Run the following code to see the result.\n",
        "\n",
        "```python\n",
        "M_sun = 1.989e30 # kg\n",
        "print(f\"The mass of the Sun is {M_sun:.1e} kg.\")\n",
        "print(f\"The mass of the Sun is {M_sun:.2e} kg.\")\n",
        "print(f\"The mass of the Sun is {M_sun:.3e} kg.\")\n",
        "print(f\"The mass of the Sun is {M_sun:.4e} kg.\")\n",
        "```"
      ],
      "metadata": {
        "id": "jByvLhqlu9EZ"
      }
    },
    {
      "cell_type": "code",
      "source": [
        "# Try the examples here"
      ],
      "metadata": {
        "id": "58hzlzkSvDMH"
      },
      "execution_count": null,
      "outputs": []
    },
    {
      "cell_type": "markdown",
      "source": [
        "#### Practice Problem 1\n",
        "Consider the example loop:\n",
        "```python\n",
        "for i in [1,10,100,1000,10000]:\n",
        "    print(\"The square root of\", i, \"is\", np.sqrt(i))\n",
        "```\n",
        "\n",
        "Use f-strings in the loop so that it produces the following output:\n",
        "```text\n",
        "The square root of     1 is   1.0\n",
        "The square root of    10 is   3.2\n",
        "The square root of   100 is  10.0\n",
        "The square root of  1000 is  31.6\n",
        "The square root of 10000 is 100.0\n",
        "```"
      ],
      "metadata": {
        "id": "5eNc30o8pa63"
      }
    },
    {
      "cell_type": "code",
      "source": [
        "# Work on the problem here"
      ],
      "metadata": {
        "id": "8VShDeLkvRgW"
      },
      "execution_count": null,
      "outputs": []
    },
    {
      "cell_type": "markdown",
      "source": [
        "### Practice Problem 2\n",
        "\n",
        "Here we will use the Julian moons to calculate the mass of Jupiter using the following equation:\n",
        "\n",
        "\\begin{equation}\n",
        "M = \\frac{4 \\pi^2}{G \\, P^2} a^3,\n",
        "\\end{equation}\n",
        "\n",
        "where G is Newton's gravitational constant, P is the orbital period, and a is the semimajor axis.\n",
        "\n",
        "\n",
        "1. Use Numpy to create an array consisting of the mass of Jupiter calculated using each moon. \n",
        "2. Then use a for loop to write the output of your calculation similar to the following (but with real information in the place of the `#` symbols).\n",
        "\n",
        "```text\n",
        "Jupiter's mass based on moon ##       (moon 1) is #.##e+## kg.\n",
        "Jupiter's mass based on moon ######   (moon 2) is #.##e+## kg.\n",
        "Jupiter's mass based on moon ######## (moon 3) is #.##e+## kg.\n",
        "Jupiter's mass based on moon ######## (moon 4) is #.##e+## kg.\n",
        "```\n",
        "The following will help get you started.\n",
        "\n",
        "```python\n",
        "# Import modules\n",
        "import numpy as np\n",
        "\n",
        "# Define fundamental units\n",
        "G = 6.6743e-11 # m^3 / kg / s^2\n",
        "\n",
        "# Define p in SI units\n",
        "p_moon = np.array([1.523e5, # Io\n",
        "                   3.046e5, # Europa\n",
        "                   6.182e5, # Ganymede\n",
        "                   1.442e6]) # Callisto\n",
        "\n",
        "# Define a in SI units\n",
        "a_moon = np.array([4.218e8, # Io\n",
        "                   6.711e8, # Europa\n",
        "                   1.070e9, # Ganymede\n",
        "                   1.883e9]) # Callisto\n",
        "\n",
        "# Define names for reference\n",
        "name_moon = np.array(['Io', \n",
        "                      'Europa', \n",
        "                      'Ganymede', \n",
        "                      'Callisto'])\n",
        "```"
      ],
      "metadata": {
        "id": "9Xm2BB_TvUJ9"
      }
    },
    {
      "cell_type": "code",
      "source": [
        "# Work on the practice problem here"
      ],
      "metadata": {
        "id": "Hc3ms0qKvwWW"
      },
      "execution_count": null,
      "outputs": []
    },
    {
      "cell_type": "markdown",
      "source": [
        "## 3: The Walrus Operator\n",
        "\n",
        "Assignment operators were added as a quality of life improvement in Python 3.8 ([PEP 572](https://peps.python.org/pep-0572/)) and use what is colloquially referred to as the *Walrus Operator* `:=`. \n",
        "Assignment operators allow variable assignment during complex operations such as conditional tests and calculations.\n",
        "\n",
        "Here are some simple examples where using a walrus operator is helpful."
      ],
      "metadata": {
        "id": "8zHu0k8yk9e3"
      }
    },
    {
      "cell_type": "markdown",
      "source": [
        "### Example 1:\n",
        "\n",
        "This are two simple ways to write effectively the same code. In each case, you're assigning `y=x**2` and also testing the result.\n",
        "\n",
        "```python\n",
        "x = 2\n",
        "\n",
        "# Version 1\n",
        "if x ** 2 > 3:\n",
        "    y1 = x ** 2\n",
        "    print(f'y1 = {y1:d}')\n",
        "\n",
        "# Version 2\n",
        "y2 = x ** 2\n",
        "if y2 > 3:\n",
        "    print(f'y2 = {y2:d}')\n",
        "```"
      ],
      "metadata": {
        "id": "-i9hSCP91sWU"
      }
    },
    {
      "cell_type": "code",
      "source": [
        "# Try the examples here."
      ],
      "metadata": {
        "id": "kPC_d5vLv7Yj"
      },
      "execution_count": null,
      "outputs": []
    },
    {
      "cell_type": "markdown",
      "source": [
        "This code can be streamlined with the walrus operator which allows variable assignment and conditional testing on the same line.\n",
        "\n",
        "```python\n",
        "x = 2\n",
        "\n",
        "if (y := x ** 2) > 3:\n",
        "    print(f'y = {y:d} and y > 3')\n",
        "```"
      ],
      "metadata": {
        "id": "kwebf1_JxfHh"
      }
    },
    {
      "cell_type": "code",
      "source": [
        "# Try the example here."
      ],
      "metadata": {
        "id": "XNAiV7aUvExW"
      },
      "execution_count": null,
      "outputs": []
    },
    {
      "cell_type": "markdown",
      "source": [
        "### Example 2:\n",
        "\n",
        "The code below retrieves the `PATH` environmental variable. The code then determines whether a certain directory (`/opt/bin`) is included in `PATH`.\n",
        "\n",
        "\n",
        "```python\n",
        "import os\n",
        "\n",
        "path = os.environ.get('PATH', None)\n",
        "if path:\n",
        "    if '/opt/bin' in path.split(':'):\n",
        "        print('/opt/bin is in the environmental path.')\n",
        "```"
      ],
      "metadata": {
        "id": "zLqBIxzZy5fj"
      }
    },
    {
      "cell_type": "code",
      "source": [
        "# Try the example here."
      ],
      "metadata": {
        "id": "jrGhkNb34Wdn"
      },
      "execution_count": null,
      "outputs": []
    },
    {
      "cell_type": "markdown",
      "source": [
        "In this next example, the code is shortened to ensure that the `PATH` environmental variable is set, and assigns it to a Python variable in the same line.\n",
        "\n",
        "```python\n",
        "import os\n",
        "\n",
        "if path := os.environ.get('PATH', None):\n",
        "    if '/opt/bin' in path.split(':'):\n",
        "        print('/opt/bin is in the environmental path.')\n",
        "```"
      ],
      "metadata": {
        "id": "tmmEsvZU4hgG"
      }
    },
    {
      "cell_type": "code",
      "source": [
        "# Try the example here."
      ],
      "metadata": {
        "id": "tATZG1m329aA"
      },
      "execution_count": null,
      "outputs": []
    },
    {
      "cell_type": "markdown",
      "source": [
        "### Example 3:\n",
        "We can use the orbital parameters of the Julian moons to calculate the mass of Jupiter using the following equation:\n",
        "\n",
        "\\begin{equation}\n",
        "M = \\frac{4 \\pi^2}{G \\, P^2} a^3,\n",
        "\\end{equation}\n",
        "\n",
        "where G is Newton's gravitational constant, P is the orbital period, and a is the semimajor axis.\n",
        "\n",
        "Suppose we are primarily interested in comparing the masses calculated using Io and Europa. We could calculate each value of $M$ separately and then calculate the ratio between the two. In the end, we have to use three operations.\n",
        "\n",
        "These could also be combined into a large single equation by utilizing the walrus operator in the following manner.\n",
        "\n",
        "```python\n",
        "# Import modules\n",
        "import numpy as np\n",
        "\n",
        "# Define fundamental units\n",
        "G = 6.6743e-11 # m^3 / kg / s^2\n",
        "\n",
        "# Define p in SI units\n",
        "p_io = 1.523e5\n",
        "p_europa = 3.046e5\n",
        "\n",
        "# Define a in SI units\n",
        "a_io = 4.218e8\n",
        "a_europa = 6.711e8\n",
        "\n",
        "mass_ratio = (\n",
        "    (m_io := 4*np.pi**2*a_io**3/G/p_io**2)/\n",
        "    (m_europa := 4*np.pi**2*a_europa**3/G/p_europa**2)\n",
        "    )\n",
        "\n",
        "print(mass_ratio)\n",
        "print(m_io)\n",
        "print(m_europa)\n",
        "```\n",
        "\n",
        "This method could be very useful when debugging portions of your code."
      ],
      "metadata": {
        "id": "oEsfj5huDDWQ"
      }
    },
    {
      "cell_type": "code",
      "source": [
        "# Try the example here."
      ],
      "metadata": {
        "id": "i4T88SM7OpJl"
      },
      "execution_count": null,
      "outputs": []
    },
    {
      "cell_type": "markdown",
      "source": [
        "### Example 4:\n",
        "\n",
        "The [Gamma-ray Coordinates Network (GCN)](https://gcn.nasa.gov) relays critical observing information of new transients as they are discovered. Below we will consider some code that loads a number of online notifications. The code lists the identification number of the notice if the notice has less than 20 lines of text.\n",
        "\n",
        "```python\n",
        "import urllib.request\n",
        "\n",
        "gcn_start = 11000\n",
        "gcn_delta = 20\n",
        "\n",
        "for gcn_number in range(gcn_start, gcn_start + gcn_delta):\n",
        "    url = f'https://gcn.gsfc.nasa.gov/gcn3/{gcn_number}.gcn3'\n",
        "    text = urllib.request.urlopen(url).read().splitlines()\n",
        "    if (length := len(text))<20:\n",
        "        print(f'{gcn_number:>6d} {length:>6d}')\n",
        "```"
      ],
      "metadata": {
        "id": "BVfx5m9w4_Fq"
      }
    },
    {
      "cell_type": "code",
      "source": [
        "# Try the example here."
      ],
      "metadata": {
        "id": "RE-QRqTl76-j"
      },
      "execution_count": null,
      "outputs": []
    },
    {
      "cell_type": "markdown",
      "source": [
        "### Example 5:\n",
        "\n",
        "Now consider another example with the GCN where we search for the name of any gamma-ray burst (GRB) within the circulars.\n",
        "\n",
        "```python\n",
        "import re # Regular expressions\n",
        "\n",
        "gcn_start = 32097\n",
        "gcn_delta = 20\n",
        "\n",
        "for gcn_number in range(gcn_start, gcn_start + gcn_delta):\n",
        "    url = f'https://gcn.gsfc.nasa.gov/gcn3/{gcn_number}.gcn3'\n",
        "    text = urllib.request.urlopen(url).read().decode(encoding='UTF-8', errors='ignore')\n",
        "    if new_text := re.search('GRB [0-9]{6}[A-Z]', text):\n",
        "        print(f'{gcn_number:>6d} {new_text.group()}')\n",
        "```"
      ],
      "metadata": {
        "id": "YJx2ILP7YPyr"
      }
    },
    {
      "cell_type": "code",
      "source": [
        "# Try the example here."
      ],
      "metadata": {
        "id": "ms71CFDw77hr"
      },
      "execution_count": null,
      "outputs": []
    },
    {
      "cell_type": "markdown",
      "source": [
        "### Problem 1\n",
        "\n",
        "We'll work with the files created by the [Open Access Astronomy Catalogs](https://github.com/astrocatalogs), in particular the catalog for Tidal Disruption Events.\n",
        "\n",
        "Run the following cell to download the catalog."
      ],
      "metadata": {
        "id": "CwYGI-UilQBj"
      }
    },
    {
      "cell_type": "code",
      "source": [
        "# Run this cell if you are using Google Colab. \n",
        "# If you are using Jupyter, run the command without\n",
        "# the leading '!' in your terminal.\n",
        "!git clone https://github.com/astrocatalogs/tde-1980-2025.git"
      ],
      "metadata": {
        "id": "f9JQYiH8Yi0D"
      },
      "execution_count": null,
      "outputs": []
    },
    {
      "cell_type": "markdown",
      "source": [
        "The directory 'tde-1980-2025' contains a number of json files. Each file is for a single source and contains many useful measurements for the source.\n",
        "\n",
        "Perform the following using walrus operators and f-strings:\n",
        "- Loop over each json file in the 'tde-1980-2025' directory.\n",
        "- If the file contains more than 100 photometric observations, output the name of the source, and the number of times it has been observed.\n",
        "\n",
        "\n",
        "The following code snippet should help you get started.\n",
        "\n",
        "```python\n",
        "from glob import glob\n",
        "import json\n",
        "\n",
        "file_names = glob('tde-1980-2025/*.json')\n",
        "\n",
        "for file_name in file_names:\n",
        "    with open(file_name) as f:\n",
        "\n",
        "        # Convert the json file into a dictionary\n",
        "        data = json.load(f)\n",
        "\n",
        "        # Source name is singular dictionary key\n",
        "        source_name = next(iter(data))\n",
        "\n",
        "        # Photometry data, if it exists, \n",
        "        # will be in data[source_name]['photometry']. \n",
        "        # \n",
        "        # If 'photometry' is not in data[source_name].keys(), \n",
        "        # then no observations have been recorded.\n",
        "```\n",
        "\n"
      ],
      "metadata": {
        "id": "IcfyFtt_lxYU"
      }
    },
    {
      "cell_type": "code",
      "source": [
        "# Work on the problem here."
      ],
      "metadata": {
        "id": "ffQTr75lZk-T"
      },
      "execution_count": null,
      "outputs": []
    }
  ]
}