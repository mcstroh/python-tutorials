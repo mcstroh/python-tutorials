{
  "nbformat": 4,
  "nbformat_minor": 0,
  "metadata": {
    "colab": {
      "provenance": [],
      "authorship_tag": "ABX9TyMYY/C3lxaeRhMAtnlF3gxL"
    },
    "kernelspec": {
      "name": "python3",
      "display_name": "Python 3"
    },
    "language_info": {
      "name": "python"
    },
    "gpuClass": "standard"
  },
  "cells": [
    {
      "cell_type": "markdown",
      "source": [
        "# Advances in Python 3.9–3.11\n",
        "Author: M. C. Stroh\n"
      ],
      "metadata": {
        "id": "r_QAvIuP75L-"
      }
    },
    {
      "cell_type": "markdown",
      "source": [
        "## 1\\. Moving beyond Python 3.8\n",
        "\n",
        "Google Colab only officially supports Python 3.8.\n",
        "This notebook covers Python features added in 3.9, 3.10, and 3.11.\n",
        "\n",
        "To upgrade the version of Python running in Google Colab:\n",
        " 1. Run the following cell.\n",
        " 2. Once the previous code cell completes, click on the **Runtime** menu and select the **Restart Runtime** option.\n",
        " 3. After restarting the runtime, run the following cell to check the version of Python."
      ],
      "metadata": {
        "id": "gtOSd6lE770-"
      }
    },
    {
      "cell_type": "code",
      "execution_count": null,
      "metadata": {
        "id": "TfWYiYIe705L"
      },
      "outputs": [],
      "source": [
        "!git clone https://github.com/mcstroh/change_colab_python.git\n",
        "!bash ./change_colab_python/change_version.sh 3.11"
      ]
    },
    {
      "cell_type": "code",
      "source": [
        "import sys\n",
        "print(sys.version)"
      ],
      "metadata": {
        "id": "BPO9kjo_Np2G"
      },
      "execution_count": null,
      "outputs": []
    },
    {
      "cell_type": "markdown",
      "source": [
        "##2\\. Union Operators for Dictionaries\n",
        "\n",
        "Dictionaries are a common Python data structure, so you may often find yourself handling data in dictionaries.\n",
        "Python 3.9 added support for a union merge (`|`) and union update (`|=`) operators for dictionaries.\n",
        "These operators may be thought of as dictionary versions of the concatenate (`+`) and extend (`+=`) list operators.\n",
        "\n",
        "### Example 1\n",
        "The code below defines two dictionaries containing information on the astronomical objects M31 and omi Cet.\n",
        "The two dictionaries are combined into a new dictionary.\n",
        "\n",
        "This example also uses the handy [Pretty Printer module](https://docs.python.org/3/library/pprint.html) which is useful for displaying data in a more helpful manner than print.\n",
        "\n",
        "```python\n",
        "from pprint import pprint\n",
        "\n",
        "galaxy = {'M31': {'name': 'Andromeda',\n",
        "                  'ra': '00 42 44.330',\n",
        "                  'decl': '+41 16 07.50'}\n",
        "}\n",
        "star = {'Omi Cet': {'name': 'Mira',\n",
        "                    'ra': '02 19 20.79',\n",
        "                    'decl': '-02 58 39.50'}\n",
        "}\n",
        "\n",
        "shiny_objects = galaxy | star\n",
        "pprint(shiny_objects)\n",
        "```"
      ],
      "metadata": {
        "id": "i5KRvmvP83FY"
      }
    },
    {
      "cell_type": "code",
      "source": [
        "# Try the example here."
      ],
      "metadata": {
        "id": "ZKAJf2D-c4P5"
      },
      "execution_count": null,
      "outputs": []
    },
    {
      "cell_type": "markdown",
      "source": [
        "### Example 2\n",
        "\n",
        "We'll work with the files created by the [Open Access Astronomy Catalogs](https://github.com/astrocatalogs), in particular the Tidal Disruption Events catalog.\n",
        "\n",
        "Run the following cell to download the catalog."
      ],
      "metadata": {
        "id": "o4vDVH1edpXE"
      }
    },
    {
      "cell_type": "code",
      "source": [
        "# Run this cell if you are using Google Colab. \n",
        "# If you are using Jupyter, run the command without\n",
        "# the leading '!' in your terminal.\n",
        "!git clone https://github.com/astrocatalogs/tde-1980-2025.git"
      ],
      "metadata": {
        "id": "0MDrjhq7v8Jp"
      },
      "execution_count": null,
      "outputs": []
    },
    {
      "cell_type": "markdown",
      "source": [
        "The directory contains json files which can be imported into Python as dictionaries. We can create a single dictionary containing all of the information by using the update operator:\n",
        "\n",
        "```python\n",
        "from glob import glob\n",
        "import json\n",
        "\n",
        "file_names = glob('tde-1980-2025/*.json')\n",
        "\n",
        "data = {}\n",
        "for file_name in file_names:\n",
        "    with open(file_name) as f:\n",
        "\n",
        "        # Convert the json file into a dictionary\n",
        "        tde = json.load(f)\n",
        "        \n",
        "        data |= tde\n",
        "        print(f'Size of data: {len(data)}')\n",
        "\n",
        "print(f'Number of files: {len(file_names)}')\n",
        "print(f'Number of entries in the dictionary: {len(data)}')\n",
        "```\n"
      ],
      "metadata": {
        "id": "uQjHdorHwAkg"
      }
    },
    {
      "cell_type": "code",
      "source": [
        "# Try the example here."
      ],
      "metadata": {
        "id": "Y-H3zyL-phxU"
      },
      "execution_count": null,
      "outputs": []
    },
    {
      "cell_type": "markdown",
      "source": [
        "##3\\. Tom's Obvious Minimal Language (TOML)"
      ],
      "metadata": {
        "id": "45prM8C9eGK7"
      }
    },
    {
      "cell_type": "markdown",
      "source": [
        "Python 3.11 added support in the Python standard library for [TOML](https://toml.io/en/).\n",
        "As the name implies, these are files with a very simple structure and an alternative to `json` and `pickle` files. \n",
        "These files can be useful for input and configuration files.\n",
        "\n",
        "There is no `dump` method in the `tomllib` library. Third party libraries such as `tomlkit` and `tomli-w` both support writing TOML files.\n",
        "More details on adding `toml` support to the standard library is discussed in [PEP 680](https://peps.python.org/pep-0680).\n",
        "\n",
        "Below is an example TOML file from the [TOML homepage](https://toml.io/en/).\n",
        "\n",
        "```toml\n",
        "# This is a TOML document\n",
        "\n",
        "title = \"TOML Example\"\n",
        "\n",
        "[owner]\n",
        "name = \"Tom Preston-Werner\"\n",
        "dob = 1979-05-27T07:32:00-08:00\n",
        "\n",
        "[database]\n",
        "enabled = true\n",
        "ports = [ 8000, 8001, 8002 ]\n",
        "data = [ [\"delta\", \"phi\"], [3.14] ]\n",
        "temp_targets = { cpu = 79.5, case = 72.0 }\n",
        "\n",
        "[servers]\n",
        "\n",
        "[servers.alpha]\n",
        "ip = \"10.0.0.1\"\n",
        "role = \"frontend\"\n",
        "\n",
        "[servers.beta]\n",
        "ip = \"10.0.0.2\"\n",
        "role = \"backend\"\n",
        "```"
      ],
      "metadata": {
        "id": "XCV6bAxpkt_D"
      }
    },
    {
      "cell_type": "markdown",
      "source": [
        "###Example 1\n",
        "The following example demonstrates how to import a `TOML` formatted string into a dictionary.\n",
        "\n",
        "```python\n",
        "from pprint import pprint\n",
        "import tomllib\n",
        "\n",
        "toml_string = \"\"\"\n",
        "# This is a TOML document\n",
        "\n",
        "title = \"TOML Example\"\n",
        "\n",
        "[owner]\n",
        "name = \"Tom Preston-Werner\"\n",
        "dob = 1979-05-27T07:32:00-08:00\n",
        "\n",
        "[database]\n",
        "enabled = true\n",
        "ports = [ 8000, 8001, 8002 ]\n",
        "data = [ [\"delta\", \"phi\"], [3.14] ]\n",
        "temp_targets = { cpu = 79.5, case = 72.0 }\n",
        "\n",
        "[servers]\n",
        "\n",
        "[servers.alpha]\n",
        "ip = \"10.0.0.1\"\n",
        "role = \"frontend\"\n",
        "\n",
        "[servers.beta]\n",
        "ip = \"10.0.0.2\"\n",
        "role = \"backend\"\n",
        "\"\"\"\n",
        "\n",
        "data = tomllib.loads(toml_string)\n",
        "\n",
        "pprint(data)\n",
        "```"
      ],
      "metadata": {
        "id": "cauYKPQksECP"
      }
    },
    {
      "cell_type": "code",
      "source": [
        "# Try the example here."
      ],
      "metadata": {
        "id": "yLMvi8Emtbjr"
      },
      "execution_count": null,
      "outputs": []
    },
    {
      "cell_type": "markdown",
      "source": [
        "###Example 2\n",
        "\n",
        "Below is some code that reads an online `TOML` file that is part of the `pip` package manager.\n",
        "\n",
        "```python\n",
        "from pprint import pprint\n",
        "import tomllib\n",
        "import urllib.request\n",
        "\n",
        "url = 'https://raw.githubusercontent.com/pypa/pip/main/pyproject.toml'\n",
        "with urllib.request.urlopen(url) as f:\n",
        "    data = tomllib.load(f)\n",
        "\n",
        "pprint(data)\n",
        "```"
      ],
      "metadata": {
        "id": "fqKQU7SdtbLH"
      }
    },
    {
      "cell_type": "code",
      "source": [
        "# Try the example here."
      ],
      "metadata": {
        "id": "8K_f7oWYueT3"
      },
      "execution_count": null,
      "outputs": []
    },
    {
      "cell_type": "markdown",
      "source": [
        "##4\\. Faster debugging"
      ],
      "metadata": {
        "id": "tvumJX0pu09h"
      }
    },
    {
      "cell_type": "markdown",
      "source": [
        "Python has greatly improved the messaging associated with errors.\n",
        "This can help track down the locations of bugs and what may be causing them.\n",
        "\n",
        "####A. Fine grained error locations\n",
        "When an error occurs in Python code, it lists the line number associated with the error.\n",
        "In Python 3.11, Python started tracking the columns associated with commands so that errors can be greater localized.\n",
        "The details of this Python addition are discussed in [PEP 657](https://peps.python.org/pep-0657/).\n",
        "\n",
        "Please run the following code cell so that Numpy can be used in the following examples.\n"
      ],
      "metadata": {
        "id": "vKFg4xK2y7Hv"
      }
    },
    {
      "cell_type": "code",
      "source": [
        "# Please run this command\n",
        "!pip install numpy"
      ],
      "metadata": {
        "id": "0vQVhMUkdWKp"
      },
      "execution_count": null,
      "outputs": []
    },
    {
      "cell_type": "markdown",
      "source": [
        "#####Example 1\n",
        "\n",
        "Try the following example of adding Numpy arrays and look at the output.\n",
        "\n",
        "```python\n",
        "a = np.ones((2,2))\n",
        "b = np.ones((2,2))\n",
        "c = np.ones((2,2))\n",
        "d = np.ones((2,3))\n",
        "\n",
        "f = (a + b) + (c + d)\n",
        "```"
      ],
      "metadata": {
        "id": "RiuqQA2zgMHr"
      }
    },
    {
      "cell_type": "code",
      "source": [
        "# Try the code here"
      ],
      "metadata": {
        "id": "G6fL-JtmsoiA"
      },
      "execution_count": null,
      "outputs": []
    },
    {
      "cell_type": "markdown",
      "source": [
        "#####Example 2\n",
        "Try this next example.\n",
        "```python\n",
        "g = a + d + b + c\n",
        "```"
      ],
      "metadata": {
        "id": "KzkP6PEogslT"
      }
    },
    {
      "cell_type": "code",
      "source": [
        "# Try the example here."
      ],
      "metadata": {
        "id": "n38SHjZ1gr3G"
      },
      "execution_count": null,
      "outputs": []
    },
    {
      "cell_type": "markdown",
      "source": [
        "#####Example 3\n",
        "Try this last example.\n",
        "Do the error messages make sense based on the previous two examples?\n",
        "```python\n",
        "h = a + b + c + d\n",
        "```"
      ],
      "metadata": {
        "id": "5z2Q65PEg82w"
      }
    },
    {
      "cell_type": "code",
      "source": [
        "# Try the example here."
      ],
      "metadata": {
        "id": "hZjD5J2FhP0e"
      },
      "execution_count": null,
      "outputs": []
    },
    {
      "cell_type": "markdown",
      "source": [
        "#####Example 4\n",
        "This example demonstrates an error when we try to reference a Numpy array element (in this case a scalar) that isn't subscriptable.\n",
        "```python\n",
        "j = np.ones((2,5))\n",
        "\n",
        "j[0][2][80][4] = 4\n",
        "```"
      ],
      "metadata": {
        "id": "yeAaxQ7eiECr"
      }
    },
    {
      "cell_type": "code",
      "source": [
        "# Try the example here."
      ],
      "metadata": {
        "id": "IZpzWcGkZmwG"
      },
      "execution_count": null,
      "outputs": []
    },
    {
      "cell_type": "markdown",
      "source": [
        "#####Example 5\n",
        "This example demonstrates an error when we attempt to assign an element when the index is outside of the bounds of an axis.\n",
        "```python\n",
        "k = np.ones((2,5,40))\n",
        "\n",
        "k[0][20][20] = 5\n",
        "```"
      ],
      "metadata": {
        "id": "hQamQC8Aifwa"
      }
    },
    {
      "cell_type": "code",
      "source": [
        "# Try the example here."
      ],
      "metadata": {
        "id": "9Qp9jL6oX-IP"
      },
      "execution_count": null,
      "outputs": []
    },
    {
      "cell_type": "markdown",
      "source": [
        "####B. Better error messages\n",
        "Python 3.10 added a lot of clearer messaging around errors. \n",
        "Here are some examples with bugs with improved error messaging.\n",
        "\n",
        "Open a second window/tab with Google Colab with Python 3.8 running and compare the errors between the instances."
      ],
      "metadata": {
        "id": "NyvKF0izjaQ8"
      }
    },
    {
      "cell_type": "markdown",
      "source": [
        "#####Example 1\n",
        "```python\n",
        "if observatory = 'Rubin Observatory':\n",
        "    elevation = 2663 # meters\n",
        "```"
      ],
      "metadata": {
        "id": "k_qNRtBO4cPH"
      }
    },
    {
      "cell_type": "code",
      "source": [
        "# Try the example here."
      ],
      "metadata": {
        "id": "WAXSClbc9MJa"
      },
      "execution_count": null,
      "outputs": []
    },
    {
      "cell_type": "markdown",
      "source": [
        "#####Example 2\n",
        "```python\n",
        "if observatory == 'Rubin Observatory'\n",
        "    elevation = 2663 # meters\n",
        "```"
      ],
      "metadata": {
        "id": "g4rjmjJs9HzE"
      }
    },
    {
      "cell_type": "code",
      "source": [
        "# Try the example here."
      ],
      "metadata": {
        "id": "kyUO2_YzasmA"
      },
      "execution_count": null,
      "outputs": []
    },
    {
      "cell_type": "markdown",
      "source": [
        "#####Example 3\n",
        "```python\n",
        "def my_func(x):\n",
        "    if x==2:\n",
        "    y=3\n",
        "    else:\n",
        "        y=4\n",
        "    return y\n",
        "```"
      ],
      "metadata": {
        "id": "xks4lAg34ehF"
      }
    },
    {
      "cell_type": "code",
      "source": [
        "# Try the example here."
      ],
      "metadata": {
        "id": "AsTeGJLh3wTB"
      },
      "execution_count": null,
      "outputs": []
    },
    {
      "cell_type": "markdown",
      "source": [
        "#####Example 4\n",
        "```python\n",
        "ztf_objects = {'202110100000000': 'ztf_000202_zg_c10_q1_dr13.parquet',\n",
        "               '202210100004167': 'ztf_000202_zr_c10_q1_dr13.parquet',\n",
        "               '202210200023351'  'ztf_000202_zr_c10_q2_dr13.parquet',\n",
        "               '228109100004715': 'ztf_000228_zg_c09_q1_dr13.parquet'}\n",
        "```"
      ],
      "metadata": {
        "id": "DFkLcOF66A9p"
      }
    },
    {
      "cell_type": "code",
      "source": [
        "# Try the example here."
      ],
      "metadata": {
        "id": "gzaFOz-K4_co"
      },
      "execution_count": null,
      "outputs": []
    },
    {
      "cell_type": "markdown",
      "source": [
        "#####Example 5\n",
        "```python\n",
        "sources = {\n",
        "    planet: 1,\n",
        "    star: 2\n",
        "    galaxy: 3,\n",
        "}\n",
        "```"
      ],
      "metadata": {
        "id": "0Rk3vWPC6Elp"
      }
    },
    {
      "cell_type": "code",
      "source": [
        "# Try the example here."
      ],
      "metadata": {
        "id": "fC2KpFHZ9kK0"
      },
      "execution_count": null,
      "outputs": []
    },
    {
      "cell_type": "markdown",
      "source": [
        "#####Example 6\n",
        "```python\n",
        "period = {'Io': 1.523e5, 'Europa': 3.046e5, 'Ganymede': 6.182e5, 'Callisto': 1.442e6,\n",
        "```"
      ],
      "metadata": {
        "id": "qPHXhZdh9l9x"
      }
    },
    {
      "cell_type": "code",
      "source": [
        "# Try the example here."
      ],
      "metadata": {
        "id": "nrjJIwyv9lXc"
      },
      "execution_count": null,
      "outputs": []
    },
    {
      "cell_type": "markdown",
      "source": [
        "## 5\\. Structural Pattern Matching\n",
        "Structural pattern matching was added in Python 3.10 and is discussed in depth in [PEP 634](https://peps.python.org/pep-0634/), [635](https://peps.python.org/pep-0635/), and [636](https://peps.python.org/pep-0636/). This may be thought of as an advanced version of the `switch` function seen in other languages (e.g. C, C++, Java, and PHP)."
      ],
      "metadata": {
        "id": "AzlAellU2ZFu"
      }
    },
    {
      "cell_type": "markdown",
      "source": [
        "### A. Basic example\n",
        "The purpose of structural pattern matching is to allow cleaner, and more readable code. Try the following example.\n",
        "\n",
        "```python\n",
        "source = 'black hole'\n",
        "\n",
        "match source:\n",
        "    case 'galaxy':\n",
        "        print('This is a galaxy.')\n",
        "    case 'star': \n",
        "        print('This is a star.')\n",
        "    case 'black hole': \n",
        "        print('This is a black hole.')\n",
        "```"
      ],
      "metadata": {
        "id": "aVhdjX5zGgMa"
      }
    },
    {
      "cell_type": "code",
      "source": [
        "# Try the example here."
      ],
      "metadata": {
        "id": "_BWFNs3d8bw-"
      },
      "execution_count": null,
      "outputs": []
    },
    {
      "cell_type": "markdown",
      "source": [
        "###B. Wildcards\n",
        "Catch-all cases can also be addressed using the \"variable name\" `_` as in the next example. \n",
        "\n",
        "```python\n",
        "def classify(source):\n",
        "    match source:\n",
        "        case 'galaxy':\n",
        "            print('This is a galaxy.')\n",
        "        case 'star': \n",
        "            print('This is a star.')\n",
        "        case 'black hole': \n",
        "            print('This is a black hole.')\n",
        "        case _:\n",
        "            print('Who knows?')\n",
        "\n",
        "classify('star')\n",
        "classify('galaxy')\n",
        "classify('neutron star')\n",
        "```"
      ],
      "metadata": {
        "id": "lcS4xXdL9YDQ"
      }
    },
    {
      "cell_type": "code",
      "source": [
        "# Try the example here."
      ],
      "metadata": {
        "id": "etVJDdpS3WiJ"
      },
      "execution_count": null,
      "outputs": []
    },
    {
      "cell_type": "markdown",
      "source": [
        "###C. Combining statements\n",
        "The `|` (\"or\") operator can join literals into a single pattern.\n",
        "Consider the following example.\n",
        "\n",
        "```python\n",
        "def classify_more(source):\n",
        "    match source:\n",
        "        case 'galaxy':\n",
        "            print('This is a galaxy.')\n",
        "        case 'star': \n",
        "            print('This is a star.')\n",
        "        case 'white dwarf' | 'neutron star' | 'black hole': \n",
        "            print('This is a dead star.')\n",
        "        case _:\n",
        "            print('Who knows?')\n",
        "\n",
        "classify_more('star')\n",
        "classify_more('galaxy')\n",
        "classify_more('neutron star')\n",
        "```"
      ],
      "metadata": {
        "id": "3kCmswp4I3dV"
      }
    },
    {
      "cell_type": "code",
      "source": [
        "# Try the example here."
      ],
      "metadata": {
        "id": "Oj5lVhosxIQ6"
      },
      "execution_count": null,
      "outputs": []
    },
    {
      "cell_type": "markdown",
      "source": [
        "###D. More complex data types\n",
        "Simple numeric types such as ints, floats, and strings can be used as patterns to match against.\n",
        "We can also use more complex data types such as tuples, for instance consider a series of temperature-luminosity points in the HR diagram.\n",
        "\n",
        "Consider the function hr_info().\n",
        "\n",
        "```python\n",
        "def hr_info(point):\n",
        "    match point:\n",
        "        case (1, 1):\n",
        "            print('This could be the Sun.')\n",
        "        case (temp, 1):\n",
        "            print(f'T={temp} T_solar, L=L_solar')\n",
        "        case (1, lum):\n",
        "            print(f'T=T_solar, L={lum} L_solar')\n",
        "        case (temp, lum):\n",
        "            print(f'T={temp} T_solar, L={lum} L_solar')\n",
        "        case _:\n",
        "            print('Not a T-L point.')\n",
        "\n",
        "```\n",
        "\n",
        "Try each of these calls to the previously defined function individually and carefully consider the results.\n",
        "\n",
        "```python\n",
        "hr_info((1, 1))\n",
        "```\n",
        "```python\n",
        "hr_info((2, 3))\n",
        "```\n",
        "```python\n",
        "hr_info((1, 3))\n",
        "```\n",
        "```python\n",
        "hr_info((2, 1))\n",
        "```\n",
        "```python\n",
        "hr_info((1))\n",
        "```"
      ],
      "metadata": {
        "id": "jh41Uaq9J5RG"
      }
    },
    {
      "cell_type": "code",
      "source": [
        "# Try the examples here."
      ],
      "metadata": {
        "id": "lAewykUNIXKF"
      },
      "execution_count": null,
      "outputs": []
    },
    {
      "cell_type": "markdown",
      "source": [
        "Notice that the second and third cases look for a *pattern* and bind one value to `temp` or `lum`, respectively. \n",
        "\n",
        "The fourth example binds both `temp` and `lum` since the input is a tuple, and has the correct shape!\n",
        "\n",
        "This is a complicated concept, so please take some time to understand what is going on."
      ],
      "metadata": {
        "id": "dBFwsiHYLhyI"
      }
    },
    {
      "cell_type": "markdown",
      "source": [
        "###E. Guards\n",
        "An `if` clause can be added to a pattern as an additional \"guard.\" \n",
        "If the guard is false, then the `match` will move to the next case.\n",
        "\n",
        "Try the next function and the two calls below to see how it works.\n",
        "\n",
        "```python\n",
        "def hr_info_guard(point):\n",
        "    match point:\n",
        "        case (temp, lum) if temp==lum:\n",
        "            print(f'T=L in solar units.')\n",
        "        case (temp, lum):\n",
        "            print(f'T={temp} T_solar, L={lum} L_solar')\n",
        "        case _:\n",
        "            print('Not a T-L point.')\n",
        "```\n",
        "```python\n",
        "hr_info_guard((2,2))\n",
        "```\n",
        "```python\n",
        "hr_info_guard((1,8))\n",
        "```"
      ],
      "metadata": {
        "id": "rV_dgPHzToU7"
      }
    },
    {
      "cell_type": "code",
      "source": [
        "# Try the examples here."
      ],
      "metadata": {
        "id": "OpWdgEPTUDdR"
      },
      "execution_count": null,
      "outputs": []
    },
    {
      "cell_type": "markdown",
      "source": [
        "###F\\. When to use this\n",
        "The examples we give are very simple and could be handled more simply with if/else conditionals.\n",
        "The structural pattern matching is more appropriate for testing against more complex data structures.\n",
        "As you continue growing as a programmer, you may run across more complex situations where this feature is more appropriate (and faster) than using if/else."
      ],
      "metadata": {
        "id": "x8UlCgW4beO7"
      }
    }
  ]
}