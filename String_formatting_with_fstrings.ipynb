{
  "nbformat": 4,
  "nbformat_minor": 0,
  "metadata": {
    "colab": {
      "provenance": []
    },
    "kernelspec": {
      "name": "python3",
      "display_name": "Python 3"
    },
    "language_info": {
      "name": "python"
    }
  },
  "cells": [
    {
      "cell_type": "markdown",
      "source": [
        "# Advanced string formatting with f-strings (fast strings)."
      ],
      "metadata": {
        "id": "q6nyvzZdj2Ao"
      }
    },
    {
      "cell_type": "markdown",
      "source": [
        "## Limitations of simple string formatting\n",
        "\n",
        "One of the simplest ways to output information from a script is to use the following:\n",
        "\n",
        "```python\n",
        "import numpy as np\n",
        "print(\"The square root of\", 2, \"is\", np.sqrt(2))\n",
        "```\n",
        "```text\n",
        "The square root of 2 is 1.4142135623730951\n",
        "```\n",
        "\n",
        "A few things to notice about this simple way of displaying output:\n",
        "- White space is added between every entry separated by a comma.\n",
        "- The mandatory white space could look weird in some cases.\n",
        "- The floats are unnecessarily long.\n",
        "- We are unable to align values in a consistent manner for easy reading.\n",
        "\n",
        "For instance, consider the following example where we list the square root of 5 values.\n",
        "\n",
        "```python\n",
        "for i in [1, 10, 100, 1000, 10000]:\n",
        "    print(\"The square root of\", i, \"is\", np.sqrt(i))\n",
        "\n",
        "```\n",
        "\n",
        "```text\n",
        "The square root of 1 is 1.0\n",
        "The square root of 10 is 3.1622776601683795\n",
        "The square root of 100 is 10.0\n",
        "The square root of 1000 is 31.622776601683793\n",
        "The square root of 10000 is 100.0\n",
        "```\n",
        "\n",
        "The output may be a bit easier to compare if it were instead written as:\n",
        "\n",
        "```text\n",
        "The square root of     1 is   1.0\n",
        "The square root of    10 is   3.2\n",
        "The square root of   100 is  10.0\n",
        "The square root of  1000 is  31.6\n",
        "The square root of 10000 is 100.0\n",
        "```\n"
      ],
      "metadata": {
        "id": "B0_IyGMIwo_Q"
      }
    },
    {
      "cell_type": "markdown",
      "source": [
        "# Using f-strings"
      ],
      "metadata": {
        "id": "A_m99YKP2h8Q"
      }
    },
    {
      "cell_type": "markdown",
      "source": [
        "To use an f-string, you place an `f` infront of your string, and you place your variable within curly brackets (`{}`). Here is a simple example."
      ],
      "metadata": {
        "id": "-AxKSOC15lQQ"
      }
    },
    {
      "cell_type": "markdown",
      "source": [
        "\n",
        "\n",
        "```python\n",
        "variable = 2\n",
        "print(f\"My variable has value: {variable}\")\n",
        "```\n",
        "\n",
        "```text\n",
        "My variable has value: 2\n",
        "```"
      ],
      "metadata": {
        "id": "mmYaHfYPj6HI"
      }
    },
    {
      "cell_type": "markdown",
      "source": [
        "Notice this has no extra padding.\n",
        "\n",
        "You can also contain complete calculations inside of `{}`.\n",
        "\n",
        "```python\n",
        "import numpy as np\n",
        "print(f\"The square root of 2 is {np.sqrt(2)}.\")\n",
        "```\n",
        "```text\n",
        "The square root of 2 is 1.4142135623730951.\n",
        "```"
      ],
      "metadata": {
        "id": "1sV3WwLw5-lk"
      }
    },
    {
      "cell_type": "markdown",
      "source": [
        "## Specifying data type\n",
        "\n",
        "If you add a colon after your variable or calculation in the curly brackets, you can specify the data type expected. This table lists some examples:\n",
        "\n",
        "| Data type           | Syntas   |\n",
        "| :-----------------   | :------- |\n",
        "| __integer__          | `d`  |\n",
        "| __float__             | `f`  |\n",
        "| __float (scientific notation)__            | `e`  |\n",
        "| __string__        | `s`  |\n",
        "\n",
        "Try the following examples\n",
        "```python\n",
        "# Example using a string\n",
        "print(f\"{'This is a string':s}\")\n",
        "\n",
        "# Example using an integer\n",
        "print(f\"{4:d} is an integer.\")\n",
        "\n",
        "# Example using a float\n",
        "print(f\"{4.:f} is a float.\")\n",
        "```"
      ],
      "metadata": {
        "id": "Gv0k67FJ7T6g"
      }
    },
    {
      "cell_type": "code",
      "source": [
        "# Place your code here"
      ],
      "metadata": {
        "id": "ELkFk0EZ6sPc"
      },
      "execution_count": null,
      "outputs": []
    },
    {
      "cell_type": "markdown",
      "source": [
        "## Adjusting text length\n",
        "\n",
        "After specifying the data type, we can adjust the padding around the output by adding a number immediately after the colon in the `{}`.\n",
        "\n",
        "A common use case is aligning digits in your output.\n",
        "\n",
        "For example, if you are looping over a sequence of one and two digit numbers but want to keep the ones digits aligned, you can add a `2` after the colon:\n",
        "\n",
        "```python\n",
        "for i in range(5, 12):\n",
        "    print(f\"{i:2d}\")\n",
        "```"
      ],
      "metadata": {
        "id": "LB7Tn1qT6_mg"
      }
    },
    {
      "cell_type": "code",
      "source": [
        "# Run the code to see the output."
      ],
      "metadata": {
        "id": "_zaC3rm-w60o"
      },
      "execution_count": null,
      "outputs": []
    },
    {
      "cell_type": "markdown",
      "source": [
        "Strings work similarly. Run the code below including a string variable and see what happens.\n",
        "\n",
        "Also note what happens when the number passed is less than the string length.\n",
        "\n",
        "```python\n",
        "planet_name = 'Mercury'\n",
        "print(f\"{planet_name:6s} is a planet.\")\n",
        "print(f\"{planet_name:7s} is a planet.\")\n",
        "print(f\"{planet_name:8s} is a planet.\")\n",
        "```"
      ],
      "metadata": {
        "id": "hcjWFR212ERA"
      }
    },
    {
      "cell_type": "code",
      "source": [
        "# Run the code to see the output"
      ],
      "metadata": {
        "id": "z7Zwe6ORvY8k"
      },
      "execution_count": null,
      "outputs": []
    },
    {
      "cell_type": "markdown",
      "source": [
        "## Text justification\n",
        "\n",
        "Left and right text justification can be chosen using `<` and `>` after the colon. It's easy to think of them as arrows pointing to the way the text will be justified.\n",
        "\n",
        "Try the two previous examples using `<` and `>` to see how the formatting changes.\n",
        "\n",
        "```python\n",
        "for i in range(5, 12):\n",
        "    print(f\"{i:<2d}\")\n",
        "for i in range(5, 12):\n",
        "    print(f\"{i:>2d}\")\n",
        "```"
      ],
      "metadata": {
        "id": "1br8Omkt28AM"
      }
    },
    {
      "cell_type": "code",
      "source": [
        "# Try the integer example using text justification."
      ],
      "metadata": {
        "id": "vvm8WcJE3wyU"
      },
      "execution_count": null,
      "outputs": []
    },
    {
      "cell_type": "markdown",
      "source": [
        "Try the following example of using text justification with a string.\n",
        "\n",
        "```python\n",
        "planet_name = 'Mercury'\n",
        "print(f\"{planet_name:<8s} is a planet.\")\n",
        "print(f\"{planet_name:>8s} is a planet.\")\n",
        "```"
      ],
      "metadata": {
        "id": "krOhG6I131QQ"
      }
    },
    {
      "cell_type": "code",
      "source": [
        "# Try the string example using text justification"
      ],
      "metadata": {
        "id": "u7AJcHAk4D4M"
      },
      "execution_count": null,
      "outputs": []
    },
    {
      "cell_type": "markdown",
      "source": [
        "## Specifying numerical precision with floats\n",
        "\n",
        "Text justification, and length can also be specified for floats; however, often times we want to specify the precision displayed for floats.\n",
        "\n",
        "Recall the earlier example:\n",
        "\n",
        "```python\n",
        "print(f\"The square root of 2 is {np.sqrt(2)}.\")\n",
        "```\n",
        "```text\n",
        "The square root of 2 is 1.4142135623730951.\n",
        "```\n",
        "\n",
        "It is unlikely 16 digits after the decimal place are necessary. We can specify the precision after the decimal by placing a decimal followed by a number in the f-string.\n",
        "\n",
        "```python\n",
        "print(f\"The square root of 2 is {np.sqrt(2):.2f}.\")\n",
        "```\n",
        "```text\n",
        "The square root of 2 is 1.41.\n",
        "```\n",
        "\n",
        "Try a few yourself:\n",
        "```python\n",
        "print(f\"We can specify pi to a few digits: {np.pi:.3f}.\")\n",
        "print(f\"We can specify pi to many digits: {np.pi:.30f}.\")\n",
        "```"
      ],
      "metadata": {
        "id": "tHgFeYa4e0Qw"
      }
    },
    {
      "cell_type": "code",
      "source": [
        "print(f\"We can specify pi to a few digits: {np.pi:.3f}.\")\n",
        "print(f\"We can specify pi to many digits: {np.pi:.30f}.\")"
      ],
      "metadata": {
        "id": "TQalVlBLtnpA"
      },
      "execution_count": null,
      "outputs": []
    },
    {
      "cell_type": "markdown",
      "source": [
        "### Scientific notation\n",
        "\n",
        "You can also adjust the precision for numbers in scientific notation. Run the following code to see the result.\n",
        "\n",
        "```python\n",
        "M_sun = 1.989e30 # kg\n",
        "print(f\"The mass of the Sun is {M_sun:.1e} kg.\")\n",
        "print(f\"The mass of the Sun is {M_sun:.2e} kg.\")\n",
        "print(f\"The mass of the Sun is {M_sun:.3e} kg.\")\n",
        "print(f\"The mass of the Sun is {M_sun:.4e} kg.\")\n",
        "```"
      ],
      "metadata": {
        "id": "7oHLg12iozM8"
      }
    },
    {
      "cell_type": "code",
      "source": [
        "# Put your code here"
      ],
      "metadata": {
        "id": "hxsw6ZhvqKzM"
      },
      "execution_count": null,
      "outputs": []
    },
    {
      "cell_type": "markdown",
      "source": [
        "## Problem 1\n",
        "\n",
        "Recall our problematic example:\n",
        "```python\n",
        "for i in [1, 10, 100, 1000, 10000]:\n",
        "    print(\"The square root of\", i, \"is\", np.sqrt(i))\n",
        "```\n",
        "\n",
        "Use f-strings so you end-up with the following output:\n",
        "```text\n",
        "The square root of     1 is   1.0\n",
        "The square root of    10 is   3.2\n",
        "The square root of   100 is  10.0\n",
        "The square root of  1000 is  31.6\n",
        "The square root of 10000 is 100.0\n",
        "```"
      ],
      "metadata": {
        "id": "9jPhD_hIhMEY"
      }
    },
    {
      "cell_type": "code",
      "source": [
        "# Place your code here"
      ],
      "metadata": {
        "id": "2n4z4truh1YI"
      },
      "execution_count": null,
      "outputs": []
    },
    {
      "cell_type": "markdown",
      "source": [
        "## Problem 2\n",
        "\n",
        "We can use details of the Julian moons to calculate the mass of Jupiter using the following equation:\n",
        "\n",
        "\\begin{equation}\n",
        "M = \\frac{4 \\pi^2}{G \\, P^2} a^3,\n",
        "\\end{equation}\n",
        "\n",
        "where G is Newton's gravitational constant, P is the orbital period, and a is the semimajor axis.\n",
        "\n",
        "\n",
        "1. Use Numpy to create an array consisting of the mass of Jupiter calculated using each moon. \n",
        "3. Then use a for loop to write the output of your calculation similar to the following (but with real information in the place of the `#` symbols).\n",
        "\n",
        "```text\n",
        "Jupiter's mass based on moon ##       (moon 1) is #.##e+## kg.\n",
        "Jupiter's mass based on moon ######   (moon 2) is #.##e+## kg.\n",
        "Jupiter's mass based on moon ######## (moon 3) is #.##e+## kg.\n",
        "Jupiter's mass based on moon ######## (moon 4) is #.##e+## kg.\n",
        "```\n",
        "The following should help get you started.\n",
        "\n",
        "```python\n",
        "#\n",
        "# Import modules\n",
        "#\n",
        "import numpy as np\n",
        "\n",
        "# Define fundamental units\n",
        "G = 6.6743e-11 # m^3 / kg / s^2\n",
        "\n",
        "#\n",
        "# Define p in SI units\n",
        "#\n",
        "p_moon = np.array([1.523e5, # Io\n",
        "                   3.046e5, # Europa\n",
        "                   6.182e5, # Ganymede\n",
        "                   1.442e6]) # Callisto\n",
        "\n",
        "#\n",
        "# Define a in SI units\n",
        "#\n",
        "a_moon = np.array([4.218e8, # Io\n",
        "                   6.711e8, # Europa\n",
        "                   1.070e9, # Ganymede\n",
        "                   1.883e9]) # Callisto\n",
        "\n",
        "#\n",
        "# Define names for reference\n",
        "#\n",
        "name_moon = np.array(['Io', 'Europa', 'Ganymede', 'Callisto'])\n",
        "```"
      ],
      "metadata": {
        "id": "RPUjbT4Bh3D8"
      }
    },
    {
      "cell_type": "code",
      "source": [
        "# Write your code here!"
      ],
      "metadata": {
        "id": "Y2YF18yY9__E"
      },
      "execution_count": null,
      "outputs": []
    }
  ]
}