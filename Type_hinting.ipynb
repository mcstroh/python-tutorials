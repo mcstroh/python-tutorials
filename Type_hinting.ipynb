{
  "nbformat": 4,
  "nbformat_minor": 0,
  "metadata": {
    "colab": {
      "provenance": [],
      "authorship_tag": "ABX9TyNKonhKVdyNt4fp3w0iQugV"
    },
    "kernelspec": {
      "name": "python3",
      "display_name": "Python 3"
    },
    "language_info": {
      "name": "python"
    },
    "gpuClass": "standard"
  },
  "cells": [
    {
      "cell_type": "markdown",
      "source": [
        "# Type annotations and type hinting\n",
        "Author: M. C. Stroh\n"
      ],
      "metadata": {
        "id": "r_QAvIuP75L-"
      }
    },
    {
      "cell_type": "markdown",
      "source": [
        "## 0\\. Moving beyond Python 3.10\n",
        "\n",
        "Google Colab only officially supports Python 3.10.\n",
        "This notebook covers Python features added in Python 3.11.\n",
        "\n",
        "To upgrade the version of Python running in Google Colab:\n",
        " 1. Run the following cell.\n",
        " 2. Once the previous code cell completes, click on the **Runtime** menu and select the **Restart Runtime** option.\n",
        " 3. After restarting the runtime, run the following cell to check the version of Python."
      ],
      "metadata": {
        "id": "c_y2mGfWnI9z"
      }
    },
    {
      "cell_type": "code",
      "source": [
        "!git clone https://github.com/mcstroh/change_colab_python.git\n",
        "!bash ./change_colab_python/change_version.sh 3.11"
      ],
      "metadata": {
        "id": "X4fHtc4VxuQD"
      },
      "execution_count": null,
      "outputs": []
    },
    {
      "cell_type": "code",
      "source": [
        "import sys\n",
        "print(sys.version)"
      ],
      "metadata": {
        "id": "BPO9kjo_Np2G"
      },
      "execution_count": null,
      "outputs": []
    },
    {
      "cell_type": "markdown",
      "source": [
        "##1\\. Rational\n",
        "\n",
        "Tracking data types is fundamental to many other programming languages such as C, C++ and Java.\n",
        "As an example, one may define a function in C++ in the following manner:\n",
        "\n",
        "```C++\n",
        "// Function to return maximum of two integers\n",
        "int maximum(int x1, int x2) {\n",
        "\n",
        "    // Local variable\n",
        "    int result;\n",
        "   \n",
        "    if (x1 > x2){\n",
        "        result = x1;\n",
        "    } else {\n",
        "        result = x2;\n",
        "    }\n",
        "    \n",
        "    return result;\n",
        "}\n",
        "```\n",
        "\n",
        "Notice that types are declared in the four places:\n",
        "*   For the function, maximum (**int** maximum...)\n",
        "*   The first input variable, x1 (**int** x1)\n",
        "*   The second input variable, x2 (**int** x2)\n",
        "*   Declaration of local variable, result (**int** result)\n",
        "\n",
        "A nice perk when learning Python is that these declarations are largely unnecessary. \n",
        "Exceptions would be when declaring empty lists, dictionaries, arrays, and other complex data types.\n",
        "\n",
        "As code increases in complexity, it can be difficult to keep track of various data types.\n",
        "Mismatching data types can lead to extra bugs, or slower development.\n",
        "In the past few years, Python has added support for optional \"type hinting\" which allows declaration of variable and function types.\n",
        "\n",
        "Critically, type hinting is **optional** and is never enforced.\n",
        "Mismatching or incomplete type declarations will never cause your code to stop working.\n",
        "Thus it is easy to ease into type hinting, and focus on the more complex portions of your code first.\n",
        "\n",
        "\"It should be emphasized that **Python will remain a \n",
        "dynamically typed language, and the authors have no desire to \n",
        "ever make type hints mandatory, even by convention.**\" - [PEP 484](https://peps.python.org/pep-0484/)\n",
        "\n",
        "Type hinting has evolved since Python 3.5, thus differences exist between versions of Python.\n",
        "For simplicity, this notebook will focus on the state of type hinting as of Python 3.11."
      ],
      "metadata": {
        "id": "i5KRvmvP83FY"
      }
    },
    {
      "cell_type": "markdown",
      "source": [
        "##2\\. Variable annotations"
      ],
      "metadata": {
        "id": "o4vDVH1edpXE"
      }
    },
    {
      "cell_type": "markdown",
      "source": [
        "Type hinting for variables is referred to as variable annotation.\n",
        "Variable annotations were added in Python 3.6 and are described in [PEP 526](https://peps.python.org/pep-0526/).\n",
        "\n",
        "Variable annotation takes the following form:\n",
        "\n",
        "```python\n",
        "my_var: type = value\n",
        "```\n",
        "\n",
        "The variable `x` can be annotated to be type `int` and take the value `4` in the following manner.\n",
        "```python\n",
        "x: int = 4\n",
        "```\n",
        "The following is also acceptable.\n",
        "```python\n",
        "x: int\n",
        "x = 4\n",
        "```\n",
        "As we stressed in the previous section, mismatched types will not cause your code to break.\n",
        "Thus the following Python variable annotation and declaration may be flagged by your IDE or a Python linter, but **the code will run**.\n",
        "Try running the code in the next code cell.\n",
        "```python\n",
        "y: int = 'GW170817'\n",
        "print(y, type(y))\n",
        "```"
      ],
      "metadata": {
        "id": "mhbWeml09puO"
      }
    },
    {
      "cell_type": "code",
      "source": [
        "# Try the example here."
      ],
      "metadata": {
        "id": "BkUql60uDYIV"
      },
      "execution_count": null,
      "outputs": []
    },
    {
      "cell_type": "markdown",
      "source": [
        "###A\\. Numeric types"
      ],
      "metadata": {
        "id": "4AQU1yIv56V3"
      }
    },
    {
      "cell_type": "markdown",
      "source": [
        "Other numeric types can be specified in addition to `int` shown above. \n",
        "Below are some basic examples. \n",
        "* For each example try printing the variable and its type.\n",
        "* Also try your own input instead of those provided.\n",
        "\n",
        "```python\n",
        "z: float = 1.4\n",
        "```"
      ],
      "metadata": {
        "id": "hZyBwqpOWzzl"
      }
    },
    {
      "cell_type": "code",
      "source": [
        "# Try the example here."
      ],
      "metadata": {
        "id": "66qozvva4fTi"
      },
      "execution_count": null,
      "outputs": []
    },
    {
      "cell_type": "markdown",
      "source": [
        "```python\n",
        "u: str = 'Chandrasekhar limit'\n",
        "```"
      ],
      "metadata": {
        "id": "wt8Y8ECS4jac"
      }
    },
    {
      "cell_type": "code",
      "source": [
        "# Try the example here."
      ],
      "metadata": {
        "id": "WZu8g6S44vn-"
      },
      "execution_count": null,
      "outputs": []
    },
    {
      "cell_type": "markdown",
      "source": [
        "```python\n",
        "v: bool = True\n",
        "```"
      ],
      "metadata": {
        "id": "WiSzGNcB4kI2"
      }
    },
    {
      "cell_type": "code",
      "source": [
        "# Try the example here."
      ],
      "metadata": {
        "id": "GxC6iMpT4w57"
      },
      "execution_count": null,
      "outputs": []
    },
    {
      "cell_type": "markdown",
      "source": [
        "```python\n",
        "w: complex = 1+2j\n",
        "```"
      ],
      "metadata": {
        "id": "06IvFRIK4lQM"
      }
    },
    {
      "cell_type": "code",
      "source": [
        "# Try the example here."
      ],
      "metadata": {
        "id": "3GQMqUn384B1"
      },
      "execution_count": null,
      "outputs": []
    },
    {
      "cell_type": "markdown",
      "source": [
        "###B\\. Standard data structures"
      ],
      "metadata": {
        "id": "LCDOzGzT61QP"
      }
    },
    {
      "cell_type": "markdown",
      "source": [
        "Data structures in the Python standard collections such as lists, tuples, sets and dictionaries can also be specified through variable annotations.\n",
        "In these cases, you can also use type hinting to specify the contents of the data structure\n",
        "```python\n",
        "a_1: list[int] = []\n",
        "```\n",
        "Since we are creating an empty list and `list()` is a function, we can equivalently write this line as\n",
        "```python\n",
        "a_2: list[int]()\n",
        "```\n"
      ],
      "metadata": {
        "id": "R88lAg1Z_1Y7"
      }
    },
    {
      "cell_type": "code",
      "source": [
        "# Try the examples here."
      ],
      "metadata": {
        "id": "SEkAjBzuHtU5"
      },
      "execution_count": null,
      "outputs": []
    },
    {
      "cell_type": "markdown",
      "source": [
        "```python\n",
        "b: tuple[str] = ('A', 'kilonova', 'following', 'a',\n",
        "                 'long-duration', 'gamma-ray', 'burst',\n",
        "                 'at', '350', 'Mpc')\n",
        "```"
      ],
      "metadata": {
        "id": "9fUGXe9pHrmk"
      }
    },
    {
      "cell_type": "code",
      "source": [
        "# Try the example here."
      ],
      "metadata": {
        "id": "SqOzOrf2HsL0"
      },
      "execution_count": null,
      "outputs": []
    },
    {
      "cell_type": "markdown",
      "source": [
        "```python\n",
        "c: set[int | float] = {0.01, 0.1, 1, 10, 100}\n",
        "```\n",
        "In this example, we indicate the contents will consist of a \"union\" (`|`) of types `int` and `float`.\n",
        "The order of union arguments doesn't matter."
      ],
      "metadata": {
        "id": "EPEj8dflHrxU"
      }
    },
    {
      "cell_type": "code",
      "source": [
        "# Try the example here."
      ],
      "metadata": {
        "id": "Eshd5EmnHoiN"
      },
      "execution_count": null,
      "outputs": []
    },
    {
      "cell_type": "markdown",
      "source": [
        "Python dictionaries have user defined keys and values. Thus, in dictionaries we can specify the type of the keys and values. We do this by separating the types with a comma. For instance\n",
        "\n",
        "```python\n",
        "# Orbital radii of the planets in meters.\n",
        "d: dict[str, float] = {'Mercury': 5.79e10,\n",
        "                       'Venus': 1.082e11,\n",
        "                       'Earth': 1.496e11,\n",
        "                       'Mars': 2.28e11,\n",
        "                       'Jupiter': 7.785e11,\n",
        "                       'Saturn': 1.432e12,\n",
        "                       'Uranus': 2.867e12,\n",
        "                       'Neptune': 4.515e12}\n",
        "```"
      ],
      "metadata": {
        "id": "5Qwi3zMJ03lO"
      }
    },
    {
      "cell_type": "code",
      "source": [
        "# Try the example here."
      ],
      "metadata": {
        "id": "_BsFpRSi2WYJ"
      },
      "execution_count": null,
      "outputs": []
    },
    {
      "cell_type": "markdown",
      "source": [
        "##3\\. Function annotations"
      ],
      "metadata": {
        "id": "FB8uiDrp20Wm"
      }
    },
    {
      "cell_type": "markdown",
      "source": [
        "###A\\. Basics\n",
        "Recall the example of the C++ maximum function earlier. \n",
        "\n",
        "```C++\n",
        "// Function to return maximum of two integers\n",
        "int maximum(int x1, int x2) {\n",
        "\n",
        "    // Local variable\n",
        "    int result;\n",
        "   \n",
        "    if (x1 > x2){\n",
        "        result = x1;\n",
        "    } else {\n",
        "        result = x2;\n",
        "    }\n",
        "    \n",
        "    return result;\n",
        "}\n",
        "```\n",
        "\n",
        "When defining a function, the argument types and the type of the return value were specified. In Python, we can do the same with type hinting.\n",
        "\n",
        "Consider an example where we write an equivalent maximum function in Python.\n",
        "\n",
        "```python\n",
        "def maximum(a: int, b: int) -> int:\n",
        "\n",
        "    result: int\n",
        "\n",
        "    if a > b:\n",
        "        result = a\n",
        "    else:\n",
        "        result = b\n",
        "\n",
        "    return result\n",
        "```\n",
        "\n",
        "Let's look at the first line. \n",
        " - For each argument passed to the function, the type is specified. \n",
        " - An arrow is used to denote the output of the function. \n",
        "\n",
        "Try running the example with different values and test the output and its type."
      ],
      "metadata": {
        "id": "mF_ASTvs29gE"
      }
    },
    {
      "cell_type": "code",
      "source": [
        "# Try the example here."
      ],
      "metadata": {
        "id": "w6D9jibR5K7Q"
      },
      "execution_count": null,
      "outputs": []
    },
    {
      "cell_type": "markdown",
      "source": [
        "###B\\. Optional arguments\n",
        "\n",
        "Functions often have optional arguments.\n",
        "Optional arguments take a default value when defining the function, and this is no different with type hinting.\n",
        "\n",
        "Below we have a `sum` function that will add two integers.\n",
        "\n",
        "```python\n",
        "def sum(a: int, b: int, c: int = 0) -> int:\n",
        "\n",
        "    return a + b + c\n",
        "```\n",
        "Try the example in the next code cell."
      ],
      "metadata": {
        "id": "D3kczza25tnV"
      }
    },
    {
      "cell_type": "code",
      "source": [
        "# Try the example here."
      ],
      "metadata": {
        "id": "-tUO2JK4DuAI"
      },
      "execution_count": null,
      "outputs": []
    },
    {
      "cell_type": "markdown",
      "source": [
        "###C\\. Allowing multiple argument types\n",
        "\n",
        "The `sum` function could be extended to also support floats by using the `|` operator.\n",
        "\n",
        "```python\n",
        "def sum(a: int | float, b: int | float, c: int | float = 0) -> int | float:\n",
        "\n",
        "    return a + b + c\n",
        "```\n"
      ],
      "metadata": {
        "id": "ADZvsSkHD0Tk"
      }
    },
    {
      "cell_type": "code",
      "source": [
        "# Try the example here."
      ],
      "metadata": {
        "id": "ORkGhMcpD0CX"
      },
      "execution_count": null,
      "outputs": []
    },
    {
      "cell_type": "markdown",
      "source": [
        "###D\\. Functions that don't return anything\n",
        "If you have a function that doesn't have a return call, you may instead use `None` as the return type. For example:\n",
        "\n",
        "```python\n",
        "def print_message(message: str = \"Hello World\") -> None:\n",
        "    print(message)\n",
        "```\n"
      ],
      "metadata": {
        "id": "ranIl0WGqKi5"
      }
    },
    {
      "cell_type": "code",
      "source": [
        "# Try the example here."
      ],
      "metadata": {
        "id": "QDMl4crMqs4Y"
      },
      "execution_count": null,
      "outputs": []
    },
    {
      "cell_type": "markdown",
      "source": [
        "#### Practice\n",
        "\n",
        "Take everything you've learned so far and practice writing your own function with type hinting."
      ],
      "metadata": {
        "id": "gjDFegJj5kxW"
      }
    },
    {
      "cell_type": "code",
      "source": [
        "# Write your own function here."
      ],
      "metadata": {
        "id": "1sFK3rr5EP9S"
      },
      "execution_count": null,
      "outputs": []
    },
    {
      "cell_type": "markdown",
      "source": [
        "###E\\. Argument overloading\n",
        "Args and kwargs are also supported.\n",
        "In these cases, we only need to specify the type of the first argument being passed to the function.\n",
        "\n",
        "Below is an example where we calculate the sum of a number of numbers.\n",
        "```python\n",
        "def sum_numbers(*args: int | float) -> int | float:\n",
        "    \n",
        "    a: int | float = 0\n",
        "    for arg in args:\n",
        "        a += arg\n",
        "\n",
        "    return a\n",
        "```\n",
        "\n",
        "Try the function using a varying number of arguments. For example:\n",
        "```python\n",
        "print(sum_numbers(1, 2, 3, 4))\n",
        "print(sum_numbers(2))\n",
        "```"
      ],
      "metadata": {
        "id": "7hf06Tu8FGPC"
      }
    },
    {
      "cell_type": "code",
      "source": [
        "# Try the example here"
      ],
      "metadata": {
        "id": "S9PKhg2sxIUt"
      },
      "execution_count": null,
      "outputs": []
    },
    {
      "cell_type": "markdown",
      "source": [
        "##4\\. More type options"
      ],
      "metadata": {
        "id": "ETDFSeNd5wwh"
      }
    },
    {
      "cell_type": "markdown",
      "source": [
        "###A\\. Types from libraries\n",
        "Data types from other libraries are also supported such as those from NumPy and pandas.\n",
        "\n",
        "Consider the simple function that adds two lists element by element and returns the result as a Numpy ndarray (`np.ndarray`).\n",
        "\n",
        "```python\n",
        "import numpy as np\n",
        "\n",
        "def list_sums(x: list, y: list) -> np.ndarray:\n",
        "\n",
        "    x_arr: np.ndarray = np.array(x)\n",
        "    y_arr: np.ndarray = np.array(y)\n",
        "\n",
        "    result: np.array = x_arr + y_arr\n",
        "\n",
        "    return result\n",
        "```"
      ],
      "metadata": {
        "id": "i6el0B8REkPK"
      }
    },
    {
      "cell_type": "code",
      "source": [
        "# First run this cell to install numpy.\n",
        "!pip install numpy"
      ],
      "metadata": {
        "id": "mpm1KppzJVeS"
      },
      "execution_count": null,
      "outputs": []
    },
    {
      "cell_type": "code",
      "source": [
        "# Try the example here"
      ],
      "metadata": {
        "id": "OoTOPAIPJT6F"
      },
      "execution_count": null,
      "outputs": []
    },
    {
      "cell_type": "markdown",
      "source": [
        "When using pandas, you can similarly use `pd.DataFrame` and `pd.Series` when using either of those types.\n",
        "\n",
        "If you are ever unsure of the proper type of the object you are using in a Python library, use the `type` function on the variable or object you're using."
      ],
      "metadata": {
        "id": "cw4drza6vXXz"
      }
    },
    {
      "cell_type": "markdown",
      "source": [
        "###B\\. Extra support\n",
        "Some modules such as NumPy are extremely flexible with some functions and can already use multiple data types as inputs.\n",
        "For instance, NumPy works on objects that are *array like* which means it can work on anything that can be converted into an array. \n",
        "\n",
        "To support these cases, NumPy has an extra `typing` module for these cases so that the user doesn't need to list everything that NumPy considers to be array like.\n",
        "\n",
        "Below is a modified example of the `list_sums` function that includes support for anything NumPy considers to be *ArrayLike*.\n",
        "This `arraylike_sum` should work for more cases than just lists.\n",
        "\n",
        "```python\n",
        "import numpy as np\n",
        "import numpy.typing as npt\n",
        "\n",
        "def arraylike_sums(x: npt.ArrayLike, y: npt.ArrayLike) -> np.ndarray:\n",
        "\n",
        "    x_arr: np.ndarray = np.array(x)\n",
        "    y_arr: np.ndarray = np.array(y)\n",
        "\n",
        "    result: np.array = x_arr + y_arr\n",
        "\n",
        "    return result\n",
        "```"
      ],
      "metadata": {
        "id": "SbVyfYpVrKvC"
      }
    },
    {
      "cell_type": "code",
      "source": [
        "# Try the example here."
      ],
      "metadata": {
        "id": "ynzmfp4ruL9A"
      },
      "execution_count": null,
      "outputs": []
    },
    {
      "cell_type": "markdown",
      "source": [
        "###C\\. Function overloading\n",
        "In other languages, specifying the types allows for a feature called **function overloading**.\n",
        "Function overloading is when multiple versions of a function exist, and the code goes to the version that matches the arguments being specified.\n",
        "\n",
        "Since type hinting is optional and does not change the way your code works, *type hinting does not open the door to function overloading in Python*."
      ],
      "metadata": {
        "id": "YXjFWzKi7lVs"
      }
    },
    {
      "cell_type": "markdown",
      "source": [
        "####Your turn\n",
        "Try writing a function that uses data types from other libraries.\n",
        "Use type hinting throughout the function."
      ],
      "metadata": {
        "id": "6XYABVXSJRsE"
      }
    },
    {
      "cell_type": "code",
      "source": [
        "# Work on your function here."
      ],
      "metadata": {
        "id": "CZPLvnvKKY6t"
      },
      "execution_count": null,
      "outputs": []
    },
    {
      "cell_type": "markdown",
      "source": [
        "##3\\. Arguments against using type hints\n",
        "* Type hints require more time to write.\n",
        "* They don't stop my code from running, so why bother?\n",
        "* Many libraries don't have type hints, so why should I?\n",
        "* Some generic functions may work quite well without artificially limiting my code.\n",
        "* If you're testing your code, why not test types in the unit tests?"
      ],
      "metadata": {
        "id": "zL2G2hxQcDIw"
      }
    },
    {
      "cell_type": "markdown",
      "source": [
        "##4\\. Arguments in favor using type hints\n",
        "* Type hinting makes it easier for new users to understand your code.\n",
        "* Type hinting simplifies reading code after long passages of time.\n",
        "* Most libraries will migrate to type hinting. Why not be ahead of the curve?\n",
        "* Makes your code stand out in public repositories by taking this extra step.\n",
        "* Adding type hinting linters to workflow assists in code collaboration.\n",
        "* Adding type hinting greatly reduces parameter space that needs testing by unit testing. "
      ],
      "metadata": {
        "id": "ii5WgqxGeQFO"
      }
    },
    {
      "cell_type": "markdown",
      "source": [
        "##5\\. Your turn\n",
        "Take some of your existing code and try to work in type hinting. You may use the cell below as a playground to work in."
      ],
      "metadata": {
        "id": "POnZnq0UlTgb"
      }
    },
    {
      "cell_type": "code",
      "source": [
        "# You may use this cell to work on your own code."
      ],
      "metadata": {
        "id": "29sDe1XclfXu"
      },
      "execution_count": null,
      "outputs": []
    }
  ]
}
