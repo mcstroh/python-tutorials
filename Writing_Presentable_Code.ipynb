{
  "nbformat": 4,
  "nbformat_minor": 0,
  "metadata": {
    "colab": {
      "provenance": [],
      "authorship_tag": "ABX9TyMcxUxfuq1R14uHvYr8s6kY"
    },
    "kernelspec": {
      "name": "python3",
      "display_name": "Python 3"
    },
    "language_info": {
      "name": "python"
    }
  },
  "cells": [
    {
      "cell_type": "markdown",
      "source": [
        "# Writing Presentable Code\n",
        "\n",
        "Author: M. C. Stroh\n",
        "\n",
        "Often programmers are hesitant to share code because they are embarrassed by how it is presented. The goal of this workshop is to help you build confidence in your code by considering common Python programming recommendations."
      ],
      "metadata": {
        "id": "fuFGiq-cCnsT"
      }
    },
    {
      "cell_type": "markdown",
      "source": [
        "## PEP 8\n",
        "[Python Enhancement Proposal (PEP) 8](https://peps.python.org/pep-0008/) is a coding style guide to consider.\n",
        "These are only *suggestions* that you are free to deviate from.\n",
        "Your code may still run correctly if you disregard PEP 8.\n",
        "Even if you choose to disregard PEP 8, it is useful to understand the reasoning behind the recommendations.\n",
        "\n",
        "This workshop covers some highlights in PEP 8, but there are many suggestions we will not cover. We recommend browsing through the official PEP 8 documentation at least once a year."
      ],
      "metadata": {
        "id": "elc_rBeMDCBv"
      }
    },
    {
      "cell_type": "markdown",
      "source": [
        "## PEP 8 isn't absolute"
      ],
      "metadata": {
        "id": "tjAms9WJJI1K"
      }
    },
    {
      "cell_type": "markdown",
      "source": [
        "### Coding Frameworks\n",
        "If you are working with an existing project that has established style guides, those style guides take precedence over PEP 8.\n",
        "\n",
        "Examples of Python frameworks:\n",
        "- Django\n",
        "- Flask"
      ],
      "metadata": {
        "id": "ZP9r5YfbH13F"
      }
    },
    {
      "cell_type": "markdown",
      "source": [
        "### Readability counts\n",
        "The Zen of Python ([PEP 20](https://peps.python.org/pep-0020/)) lists some guiding principles to consider when writing in Python. \n",
        "Run the following cell and read the output to become a better Python programmer."
      ],
      "metadata": {
        "id": "9wi7js2JHHQf"
      }
    },
    {
      "cell_type": "code",
      "source": [
        "import this"
      ],
      "metadata": {
        "id": "LfglX0MVHBgd"
      },
      "execution_count": null,
      "outputs": []
    },
    {
      "cell_type": "markdown",
      "source": [
        "### Examples of when to ignore PEP 8\n",
        "\n",
        "1. When appying PEP 8 recommendations would lead to less readable code.\n",
        "2. If PEP 8 is inconsistent with neighboring code and would lead to bugs in the code.\n",
        "3. The code predates PEP 8, and there is no reason to modify the code except for the fact that it is inconsistent with PEP 8.\n",
        "4. Portions of the code are incompatible with newer features and recommendations in PEP 8."
      ],
      "metadata": {
        "id": "kVbbRSqAI7Ds"
      }
    },
    {
      "cell_type": "markdown",
      "source": [
        "### A. Indentation\n",
        "1\\. New lines of code should use four spaces per indentation level. \n",
        "\n",
        "Google Colab uses two space indentations. This can be altered in the **Settings -> Editor** menu. The Settings menu can be accessed by clicking the gear in the upper right corner of the window.\n",
        "\n",
        "```python\n",
        "for i in range(2):\n",
        "    for j in range(2):\n",
        "        for k in range(2):\n",
        "            # Do something simple here\n",
        "            print(i * j * k)\n",
        "\n",
        "```\n",
        "\n",
        "2\\. Lines that continue onto subsequent lines should align wrapped elements vertically along parenthesis, brackets, or braces. \n",
        "\n",
        "Hanging indents can also be used, but when doing so no arguments should be on the first line, and further indentation should be used to distinguish further lines as being continuous. The four space rule is optional for continuous lines.\n",
        "\n",
        "\n",
        "```python\n",
        "def example_function_with_an_obscenely_long_name(\n",
        "        alpha, beta, \n",
        "        gamma, delta):\n",
        "    print(alpha)\n",
        "    return(beta)\n",
        "\n",
        "new_beta = example_function_with_an_obscenetly_long_name(\n",
        "    1, 2\n",
        "    3, 4)\n",
        "\n",
        "```\n",
        "\n",
        "The closing parenthesis, bracket or brace may also end on the first character of the line that starts the construct, or \n",
        "\n",
        "```python\n",
        "shapes = ['circle', \n",
        "          'triangle', \n",
        "          'square']\n",
        "\n",
        "# or\n",
        "numbers = [0, 1, 2,\n",
        "           3, 4, 5,\n",
        "           6, 7, 8,\n",
        "           ]\n",
        "\n",
        "# or\n",
        "letters = ['a', 'b', 'c',\n",
        "           'd', 'e', 'f',\n",
        "]\n",
        "``` \n",
        "\n",
        "3\\. Spaces are preferred, but tabs are supported for existing code. Mixing tabs and spaces is not allowed. "
      ],
      "metadata": {
        "id": "l9F7ytiBFBg-"
      }
    },
    {
      "cell_type": "code",
      "execution_count": null,
      "metadata": {
        "id": "CbLO5YjaCmHY"
      },
      "outputs": [],
      "source": []
    },
    {
      "cell_type": "markdown",
      "source": [
        "## B. Line Length\n",
        "\n",
        "1. Limit lines to no more than 79 characters.\n",
        "\n",
        "2. Limit long text blocks (docstrings or comments), limit the line length to less than 73 characters.\n",
        "\n",
        "The 79 character limit is admitedly conservative that can lead to relatively narrow text on modern monitors. This limit can be easily reached with long variable names, nested loops, and long file names. Thus some use limits between 90 and 99 characters.\n",
        "\n",
        "Most Integrated Development Environments (IDEs) and text editors allow a way to indicate certain text columns. In Google Colab, see **Settings -> Editor -> Vertical ruler column**.\n",
        "\n",
        "Here are some examples of long code, and techniques to reduce line length."
      ],
      "metadata": {
        "id": "L7KQ98Vji9zL"
      }
    },
    {
      "cell_type": "markdown",
      "source": [
        "#### Example 1\n",
        "Below is a piece of working code that opens up two web pages, and prints the contents. The two lines are still over 79 characters.\n",
        "\n",
        "```python3\n",
        "import urllib.request\n",
        "\n",
        "with urllib.request.urlopen('https://gcn.gsfc.nasa.gov/gcn3/1000.gcn3') as url, open('1000.txt', 'w') as file:\n",
        "    \n",
        "    file.write(url.read().decode(encoding='UTF-8', errors='ignore'))\n",
        "```"
      ],
      "metadata": {
        "id": "k2c6jcet0Pn1"
      }
    },
    {
      "cell_type": "markdown",
      "source": [
        "##### Discussion\n",
        "How can we simplify the lines to increase readability?"
      ],
      "metadata": {
        "id": "T6SWQuMq-AAy"
      }
    },
    {
      "cell_type": "code",
      "source": [
        "# Play with the code here"
      ],
      "metadata": {
        "id": "KHe8dBalx5Hi"
      },
      "execution_count": null,
      "outputs": []
    },
    {
      "cell_type": "markdown",
      "source": [
        "## C. Line Breaks Before Operators\n",
        "Readibility can be increased by writing equations where the operands are lined-up and not at the end of the line.\n",
        "\n",
        "```python\n",
        "# Probably not the best\n",
        "number_of_core_collapse_supernovae = (number_of_ztf_sources - \n",
        "                                      (number_of_tidal_disruption_events +\n",
        "                                       number_of_asteroids + \n",
        "                                       number_of_galactic_transients + \n",
        "                                       number_of_variable_stars))\n",
        "```\n",
        "\n",
        "```python\n",
        "# Better\n",
        "number_of_core_collapse_supernovae = (number_of_ztf_sources \n",
        "                                      - (number_of_tidal_disruption_events\n",
        "                                         + number_of_asteroids \n",
        "                                         + number_of_galactic_transients\n",
        "                                         + number_of_variable_stars))\n",
        "```"
      ],
      "metadata": {
        "id": "kTkeXX0nBEpS"
      }
    },
    {
      "cell_type": "markdown",
      "source": [
        "##D\\. String Quotes\n",
        "\n",
        "Single and double quotes are treated the same in Python for creating and formatting strings. PEP 8 makes no recommendation on a convention to use. Choose your own convention and stick to it.\n",
        "\n",
        "Below we list some examples of using single and double quotes as well as demonstrating how to properly escape the characters in the string.\n",
        "\n",
        "```python\n",
        "paper_statement1 = 'Jillian\\'s paper was the best of 2022.'\n",
        "\n",
        "paper_statement2 = \"Jillian's paper was the best of 2022.\"\n",
        "\n",
        "paper_title1 = (\"Jillian's paper was titled \"\n",
        "                \"\\\"A kilonova following a long-duration \"\n",
        "                \"gamma-ray burst at 350 Mpc.\\\"\")\n",
        "\n",
        "paper_title2 = ('Jillian\\'s paper was titled '\n",
        "                '\"A kilonova following a long-duration '\n",
        "                'gamma-ray burst at 350 Mpc.\"')\n",
        "\n",
        "```"
      ],
      "metadata": {
        "id": "hF_DHnqkXayJ"
      }
    },
    {
      "cell_type": "code",
      "source": [
        "# Try the code here"
      ],
      "metadata": {
        "id": "xAD2OX_4ZND5"
      },
      "execution_count": null,
      "outputs": []
    },
    {
      "cell_type": "markdown",
      "source": [
        "##E\\. Whitespace\n",
        "\n",
        "Avoid extraneous whitespace in the following situations:\n",
        "\n",
        "1. Inside and neighboring parenthesis, brackets, and braces.\n",
        "2. Between a trailing comma and a following close parenthesis.\n",
        "3. Immediately preceeding commas, semicolons, and colons (except when the colon is used in a slice).\n",
        "4. More than one space around an assignment operator to align it with other assignments.\n",
        "5. White space preceeding the open parenthesis that starts the argument list.\n",
        "6. White space preceeding the open bracket that starts indexing or slicing.\n",
        "\n",
        "Place single spaces before and after:\n",
        "- assignment operators (`=`)\n",
        "- augmented assignment operators (`+=`, `-=`)\n",
        "- comparison operators (`==`,`<`,`>`,`!=`,`<>`,`<=`,`>=`,`in`,`not in`,`is`,`is not`)\n",
        "- Booleans (`and`, `or`, `not`).\n",
        "\n",
        "Use whitespace around operators that act later in order of operations for clarity. Use your best judgement; however, never use more than one space and keep equal spacing before and after binary operators.\n",
        "\n",
        "### Example 2\n",
        "Where can the following code block be improved?\n",
        "```python\n",
        "# Could be improved\n",
        "star = { 'radius': 10, \n",
        "         'magnitudes': { 'g'  : 16.5,\n",
        "                         'r'  : 15.2,\n",
        "                         'W1' : 14.2 } \n",
        "}\n",
        "```"
      ],
      "metadata": {
        "id": "3eJr3mnAVC65"
      }
    },
    {
      "cell_type": "code",
      "source": [
        "# Improve the code in this code block"
      ],
      "metadata": {
        "id": "PI-8Vk1Xu1Su"
      },
      "execution_count": null,
      "outputs": []
    },
    {
      "cell_type": "markdown",
      "source": [
        "## F\\. Names\n",
        "\n",
        "Functions and variables should use lowercase descriptive names with words separated by underscores to improve readability.\n",
        "\n",
        "Below are some examples:\n",
        "```python\n",
        "inner_planets = ['Mercury', 'Venus', 'Earth', 'Mars']\n",
        "outer_planets = ['Jupiter', 'Saturn','Uranus', 'Neptune']\n",
        "```\n",
        "\n",
        "Classes should use the CapitalizedWords naming convention. This convention is similar to C/C++ programming.\n",
        "\n",
        "```python\n",
        "from dataclasses import dataclass\n",
        "\n",
        "@dataclass\n",
        "class HostGalaxy():\n",
        "    \"\"\"Class for tracking host galaxy for a transient.\"\"\"\n",
        "    name: str\n",
        "    redshift: float\n",
        "    ra: float\n",
        "    decl: float\n",
        "\n",
        "```\n"
      ],
      "metadata": {
        "id": "dsHZWMnXO8GA"
      }
    },
    {
      "cell_type": "markdown",
      "source": [
        "## G\\. Comments\n",
        "\n",
        "Use complete sentences and proper capitalization in comments.\n",
        "\n",
        "Comments should be up to date and not contradict the code.\n",
        "\n",
        "Block comments should be intented to the same level as the code.\n",
        "\n",
        "Don't use inline comments for trivial and obvious operations. Use inline comments sparingly, and only when actually useful."
      ],
      "metadata": {
        "id": "roJ8Y9vN3rJ1"
      }
    },
    {
      "cell_type": "markdown",
      "source": [
        "## Advice going forward\n",
        "1. Use your own judgement to keep your code clean and readable.\n",
        "2. Browse PEP 8 recommendations at least once a year to keep it in mind. You may find recommendations that affect your coding style as you continue to grow as a programmer.\n",
        "3. Focus on new code. Don't PEP 8-ify old code if it works.\n",
        "4. If your code is overly complex and unreadable, consider how PEP 8 recommendations may improve your code.\n",
        "5. Don't criticize others who don't conform strictly to PEP-8. \n",
        "6. Don't PEP-8-ify other code repositories without permission.\n"
      ],
      "metadata": {
        "id": "G958xqPNL2vN"
      }
    },
    {
      "cell_type": "markdown",
      "source": [
        "### Your turn\n",
        "\n",
        "Copy some of your existing code into to a new file or notebook.\n",
        "Apply some of the ideas you've learned to make it PEP 8 compliant.\n",
        "\n",
        "Make note of any places where rigid following of PEP 8 would make the code less readable."
      ],
      "metadata": {
        "id": "l7lt0JRTvd_7"
      }
    },
    {
      "cell_type": "code",
      "source": [
        "# If convenient, use this cell to try editing your own code."
      ],
      "metadata": {
        "id": "0JxfMwZJWx_H"
      },
      "execution_count": null,
      "outputs": []
    }
  ]
}
